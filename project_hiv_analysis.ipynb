{
 "cells": [
  {
   "cell_type": "code",
   "execution_count": 2,
   "metadata": {},
   "outputs": [],
   "source": [
    "import pandas as pd\n",
    "import pyterrier as pt\n",
    "import os\n",
    "import numpy as np"
   ]
  },
  {
   "cell_type": "code",
   "execution_count": 3,
   "metadata": {},
   "outputs": [
    {
     "name": "stderr",
     "output_type": "stream",
     "text": [
      "PyTerrier 0.9.1 has loaded Terrier 5.7 (built by craigm on 2022-11-10 18:30) and terrier-helper 0.0.7\n",
      "\n"
     ]
    }
   ],
   "source": [
    "if not pt.started():\n",
    "    pt.init()"
   ]
  },
  {
   "cell_type": "markdown",
   "metadata": {},
   "source": [
    "Task 1.1: data cleaning process"
   ]
  },
  {
   "cell_type": "code",
   "execution_count": 9,
   "metadata": {},
   "outputs": [],
   "source": [
    "policy = pd.read_csv('policy.csv', encoding='latin-1')\n"
   ]
  },
  {
   "cell_type": "code",
   "execution_count": 10,
   "metadata": {},
   "outputs": [],
   "source": [
    "policy['docno'] = np.nan\n",
    "policy['docno'] = policy.reset_index()\n",
    "policy['docno'] = policy['docno'] + 1\n",
    "policy['docno'] = policy['docno'].astype(str)\n",
    "policy['text']  = policy['policy'].apply(str)\n"
   ]
  },
  {
   "cell_type": "code",
   "execution_count": 11,
   "metadata": {},
   "outputs": [
    {
     "data": {
      "text/html": [
       "<div>\n",
       "<style scoped>\n",
       "    .dataframe tbody tr th:only-of-type {\n",
       "        vertical-align: middle;\n",
       "    }\n",
       "\n",
       "    .dataframe tbody tr th {\n",
       "        vertical-align: top;\n",
       "    }\n",
       "\n",
       "    .dataframe thead th {\n",
       "        text-align: right;\n",
       "    }\n",
       "</style>\n",
       "<table border=\"1\" class=\"dataframe\">\n",
       "  <thead>\n",
       "    <tr style=\"text-align: right;\">\n",
       "      <th></th>\n",
       "      <th>docno</th>\n",
       "      <th>text</th>\n",
       "    </tr>\n",
       "  </thead>\n",
       "  <tbody>\n",
       "    <tr>\n",
       "      <td>0</td>\n",
       "      <td>1</td>\n",
       "      <td>Afghanistan Data.quality.review.conducted.to.d...</td>\n",
       "    </tr>\n",
       "    <tr>\n",
       "      <td>1</td>\n",
       "      <td>2</td>\n",
       "      <td>Bangladesh Data.quality.review.conducted.to.de...</td>\n",
       "    </tr>\n",
       "    <tr>\n",
       "      <td>2</td>\n",
       "      <td>3</td>\n",
       "      <td>Bhutan Data.quality.review.conducted.to.determ...</td>\n",
       "    </tr>\n",
       "    <tr>\n",
       "      <td>3</td>\n",
       "      <td>4</td>\n",
       "      <td>Brunei Darussalam Data.quality.review.conducte...</td>\n",
       "    </tr>\n",
       "    <tr>\n",
       "      <td>4</td>\n",
       "      <td>5</td>\n",
       "      <td>Cambodia Data.quality.review.conducted.to.dete...</td>\n",
       "    </tr>\n",
       "    <tr>\n",
       "      <td>...</td>\n",
       "      <td>...</td>\n",
       "      <td>...</td>\n",
       "    </tr>\n",
       "    <tr>\n",
       "      <td>16728</td>\n",
       "      <td>16729</td>\n",
       "      <td>Solomon Islands Where.viral.load.testing.is.av...</td>\n",
       "    </tr>\n",
       "    <tr>\n",
       "      <td>16729</td>\n",
       "      <td>16730</td>\n",
       "      <td>Tonga Where.viral.load.testing.is.available.Na...</td>\n",
       "    </tr>\n",
       "    <tr>\n",
       "      <td>16730</td>\n",
       "      <td>16731</td>\n",
       "      <td>Tuvalu Where.viral.load.testing.is.available.N...</td>\n",
       "    </tr>\n",
       "    <tr>\n",
       "      <td>16731</td>\n",
       "      <td>16732</td>\n",
       "      <td>Vanuatu Where.viral.load.testing.is.available....</td>\n",
       "    </tr>\n",
       "    <tr>\n",
       "      <td>16732</td>\n",
       "      <td>16733</td>\n",
       "      <td>Viet Nam Where.viral.load.testing.is.available...</td>\n",
       "    </tr>\n",
       "  </tbody>\n",
       "</table>\n",
       "<p>16733 rows × 2 columns</p>\n",
       "</div>"
      ],
      "text/plain": [
       "       docno                                               text\n",
       "0          1  Afghanistan Data.quality.review.conducted.to.d...\n",
       "1          2  Bangladesh Data.quality.review.conducted.to.de...\n",
       "2          3  Bhutan Data.quality.review.conducted.to.determ...\n",
       "3          4  Brunei Darussalam Data.quality.review.conducte...\n",
       "4          5  Cambodia Data.quality.review.conducted.to.dete...\n",
       "...      ...                                                ...\n",
       "16728  16729  Solomon Islands Where.viral.load.testing.is.av...\n",
       "16729  16730  Tonga Where.viral.load.testing.is.available.Na...\n",
       "16730  16731  Tuvalu Where.viral.load.testing.is.available.N...\n",
       "16731  16732  Vanuatu Where.viral.load.testing.is.available....\n",
       "16732  16733  Viet Nam Where.viral.load.testing.is.available...\n",
       "\n",
       "[16733 rows x 2 columns]"
      ]
     },
     "execution_count": 11,
     "metadata": {},
     "output_type": "execute_result"
    }
   ],
   "source": [
    "policy = policy.drop(['policy'], axis = 1)\n",
    "policy"
   ]
  },
  {
   "cell_type": "code",
   "execution_count": 12,
   "metadata": {},
   "outputs": [],
   "source": [
    "# new = policy[\"text\"].str.split(\" \", n = 2, expand = True)\n",
    "\n",
    "# policy['country'] = new[0]\n",
    "# policy['policy'] = new[1]\n",
    "# count = 0\n",
    "# for val in (policy.groupby('policy').count()['docno'] == 1):\n",
    "#     if(val == True):\n",
    "#         count += 1     \n",
    "# policy['country'].unique()\n"
   ]
  },
  {
   "cell_type": "markdown",
   "metadata": {},
   "source": [
    "Task 1.2: create policy index"
   ]
  },
  {
   "cell_type": "code",
   "execution_count": 13,
   "metadata": {},
   "outputs": [
    {
     "data": {
      "text/plain": [
       "'./policy_index/data.properties'"
      ]
     },
     "execution_count": 13,
     "metadata": {},
     "output_type": "execute_result"
    }
   ],
   "source": [
    "index_dir = './policy_index'\n",
    "indexer = pt.DFIndexer(index_dir, overwrite=True)\n",
    "index_ref = indexer.index(policy[\"text\"], policy[\"docno\"])\n",
    "index_ref.toString()"
   ]
  },
  {
   "cell_type": "code",
   "execution_count": 14,
   "metadata": {},
   "outputs": [],
   "source": [
    "index = pt.IndexFactory.of(index_ref)"
   ]
  },
  {
   "cell_type": "code",
   "execution_count": 15,
   "metadata": {},
   "outputs": [],
   "source": [
    "pl2 = pt.BatchRetrieve(index, wmodel=\"PL2\")"
   ]
  },
  {
   "cell_type": "markdown",
   "metadata": {},
   "source": [
    "task 1.3: create annotation "
   ]
  },
  {
   "cell_type": "code",
   "execution_count": null,
   "metadata": {},
   "outputs": [],
   "source": [
    "### that part is for creating annotation\n",
    "query = \"20. policy on Community engagement in PMTCT in Tonga\"\n",
    "resultcsv = pd.DataFrame()\n",
    "top100doc = pl2.search(query)[0:100]\n",
    "#### pl2 / tf-idf pick ranodm one\n",
    "val = top100doc.docno.values\n",
    "\n",
    "resultcsv = policy[policy['docno'].apply(lambda x: x in val)]\n",
    "resultcsv['rank'] = np.nan\n",
    "resultcsv['query'] = query\n",
    "\n",
    "resultcsv.to_csv('query13.csv')"
   ]
  },
  {
   "cell_type": "markdown",
   "metadata": {},
   "source": [
    "Task 2.2: read annotation part and create our own query and relevance dataset"
   ]
  },
  {
   "cell_type": "code",
   "execution_count": 4,
   "metadata": {},
   "outputs": [],
   "source": [
    "from sklearn.model_selection import train_test_split\n",
    "\n",
    "annotation = pd.read_csv('annotation.csv').drop(['Unnamed: 0'], axis = 1)\n",
    "#annotation = annotation.sort_values(by = 'qid')\n",
    "dictForDocSort = {}\n",
    "for docIndex in range(len(annotation.docno.unique())):\n",
    "    dictForDocSort[annotation.docno.unique()[docIndex]] = docIndex\n",
    "annotation.docno = annotation.docno.apply(lambda x: dictForDocSort[x])\n",
    "annotation['qid'] = annotation['qid'].astype(str)\n",
    "annotation['docno'] = annotation['docno'].astype(str)\n",
    "\n",
    "queryDF = annotation[['qid','docno','rank']]\n",
    "queryDF = queryDF.sort_values(by='qid')\n",
    "queryDF = queryDF.reset_index()\n",
    "queryDF.loc[:,'qid'] = queryDF['qid'].astype(str)\n",
    "queryDF.loc[:,'label'] = queryDF['rank'].astype(int)\n",
    "queryDF.loc[:,'docno'] = queryDF['docno'].astype(str)\n",
    "queryDF = queryDF.drop(['rank','index'], axis = 1)\n",
    "\n",
    "relevanceDF = annotation[['qid','query']]\n",
    "relevanceUnique = pd.DataFrame()\n",
    "relevanceUnique['qid'] = relevanceDF['qid'].unique()\n",
    "relevanceUnique['query'] = relevanceDF['query'].unique()\n",
    "\n",
    "relevanceUnique = relevanceUnique.sort_values(by='qid')\n",
    "relevanceUnique.loc[:,'qid'] = relevanceUnique['qid'].astype(str)\n",
    "relevanceUnique.loc[:,'query'] = relevanceUnique['query'].astype(str)\n",
    "relevanceUnique = relevanceUnique.reset_index()\n",
    "relevanceUnique = relevanceUnique.drop(['index'], axis = 1)\n",
    "#queryDF.head() ## should I rank by qid?\n",
    "relevanceUnique.head()\n",
    "\n",
    "#### reorder my query and relevance into correct way\n",
    "query = relevanceUnique.copy()\n",
    "relevance = queryDF.copy()"
   ]
  },
  {
   "cell_type": "markdown",
   "metadata": {},
   "source": [
    "Task 2.3: create annotation index"
   ]
  },
  {
   "cell_type": "code",
   "execution_count": 5,
   "metadata": {},
   "outputs": [
    {
     "name": "stderr",
     "output_type": "stream",
     "text": [
      "/Library/Frameworks/Python.framework/Versions/3.7/lib/python3.7/site-packages/pandas/core/indexing.py:576: SettingWithCopyWarning: \n",
      "A value is trying to be set on a copy of a slice from a DataFrame.\n",
      "Try using .loc[row_indexer,col_indexer] = value instead\n",
      "\n",
      "See the caveats in the documentation: http://pandas.pydata.org/pandas-docs/stable/user_guide/indexing.html#returning-a-view-versus-a-copy\n",
      "  self.obj[item_labels[indexer[info_axis]]] = value\n"
     ]
    }
   ],
   "source": [
    "annotationIndex = annotation[['docno', 'text']]\n",
    "annotationIndex.loc[:,'docno'] = annotationIndex['docno'].astype(int)\n",
    "annotationIndex = annotationIndex.sort_values(by = 'docno')\n",
    "annotationIndex.loc[:,'docno'] = annotationIndex['docno'].astype(str)\n",
    "annotationIndex = annotationIndex.reset_index()\n",
    "annotationIndex = annotationIndex.drop(['index'], axis = 1)"
   ]
  },
  {
   "cell_type": "code",
   "execution_count": 6,
   "metadata": {},
   "outputs": [],
   "source": [
    "annotationIndex = annotationIndex.drop_duplicates()"
   ]
  },
  {
   "cell_type": "code",
   "execution_count": 7,
   "metadata": {},
   "outputs": [
    {
     "data": {
      "text/html": [
       "<div>\n",
       "<style scoped>\n",
       "    .dataframe tbody tr th:only-of-type {\n",
       "        vertical-align: middle;\n",
       "    }\n",
       "\n",
       "    .dataframe tbody tr th {\n",
       "        vertical-align: top;\n",
       "    }\n",
       "\n",
       "    .dataframe thead th {\n",
       "        text-align: right;\n",
       "    }\n",
       "</style>\n",
       "<table border=\"1\" class=\"dataframe\">\n",
       "  <thead>\n",
       "    <tr style=\"text-align: right;\">\n",
       "      <th></th>\n",
       "      <th>docno</th>\n",
       "      <th>text</th>\n",
       "    </tr>\n",
       "  </thead>\n",
       "  <tbody>\n",
       "    <tr>\n",
       "      <td>0</td>\n",
       "      <td>0</td>\n",
       "      <td>Afghanistan HIV.testing.recommended.in.nationa...</td>\n",
       "    </tr>\n",
       "    <tr>\n",
       "      <td>5</td>\n",
       "      <td>1</td>\n",
       "      <td>Bangladesh HIV.testing.recommended.in.national...</td>\n",
       "    </tr>\n",
       "    <tr>\n",
       "      <td>10</td>\n",
       "      <td>2</td>\n",
       "      <td>Nepal HIV.testing.recommended.in.national.guid...</td>\n",
       "    </tr>\n",
       "    <tr>\n",
       "      <td>15</td>\n",
       "      <td>3</td>\n",
       "      <td>Afghanistan HIV.testing.recommended.in.nationa...</td>\n",
       "    </tr>\n",
       "    <tr>\n",
       "      <td>20</td>\n",
       "      <td>4</td>\n",
       "      <td>Bangladesh HIV.testing.recommended.in.national...</td>\n",
       "    </tr>\n",
       "    <tr>\n",
       "      <td>...</td>\n",
       "      <td>...</td>\n",
       "      <td>...</td>\n",
       "    </tr>\n",
       "    <tr>\n",
       "      <td>5995</td>\n",
       "      <td>3932</td>\n",
       "      <td>Nauru Services.accessible.to.people.affected.b...</td>\n",
       "    </tr>\n",
       "    <tr>\n",
       "      <td>5996</td>\n",
       "      <td>3933</td>\n",
       "      <td>Nauru Services.accessible.to.people.affected.b...</td>\n",
       "    </tr>\n",
       "    <tr>\n",
       "      <td>5997</td>\n",
       "      <td>3934</td>\n",
       "      <td>Nauru Services.accessible.to.people.affected.b...</td>\n",
       "    </tr>\n",
       "    <tr>\n",
       "      <td>5998</td>\n",
       "      <td>3935</td>\n",
       "      <td>Nauru Sentinel.surveillance.conducted..People....</td>\n",
       "    </tr>\n",
       "    <tr>\n",
       "      <td>5999</td>\n",
       "      <td>3936</td>\n",
       "      <td>Nauru Specific.legal.provisions.prohibiting.vi...</td>\n",
       "    </tr>\n",
       "  </tbody>\n",
       "</table>\n",
       "<p>3944 rows × 2 columns</p>\n",
       "</div>"
      ],
      "text/plain": [
       "     docno                                               text\n",
       "0        0  Afghanistan HIV.testing.recommended.in.nationa...\n",
       "5        1  Bangladesh HIV.testing.recommended.in.national...\n",
       "10       2  Nepal HIV.testing.recommended.in.national.guid...\n",
       "15       3  Afghanistan HIV.testing.recommended.in.nationa...\n",
       "20       4  Bangladesh HIV.testing.recommended.in.national...\n",
       "...    ...                                                ...\n",
       "5995  3932  Nauru Services.accessible.to.people.affected.b...\n",
       "5996  3933  Nauru Services.accessible.to.people.affected.b...\n",
       "5997  3934  Nauru Services.accessible.to.people.affected.b...\n",
       "5998  3935  Nauru Sentinel.surveillance.conducted..People....\n",
       "5999  3936  Nauru Specific.legal.provisions.prohibiting.vi...\n",
       "\n",
       "[3944 rows x 2 columns]"
      ]
     },
     "execution_count": 7,
     "metadata": {},
     "output_type": "execute_result"
    }
   ],
   "source": [
    "annotationIndex"
   ]
  },
  {
   "cell_type": "code",
   "execution_count": 8,
   "metadata": {},
   "outputs": [],
   "source": [
    "index_dir = './annotation_index'\n",
    "indexer = pt.DFIndexer(index_dir, overwrite=True)\n",
    "index_ref = indexer.index(annotationIndex[\"text\"], annotationIndex[\"docno\"])\n",
    "index_ref.toString()\n",
    "index = pt.IndexFactory.of(index_ref)"
   ]
  },
  {
   "cell_type": "markdown",
   "metadata": {},
   "source": [
    "Task 2.4: create query-doc pair dataset for future assign cos-sim score"
   ]
  },
  {
   "cell_type": "code",
   "execution_count": 202,
   "metadata": {},
   "outputs": [],
   "source": [
    "annotationQidDocPair = annotation.copy()\n",
    "annotationQidDocPair['docno'] = annotationQidDocPair['docno'].astype(int)\n",
    "annotationQidDocPair['qid'] = annotationQidDocPair['qid'].astype(int)\n",
    "documents = annotationQidDocPair.docno.unique()\n",
    "docText = {}\n",
    "for doc in documents:\n",
    "    docText[doc] = annotationQidDocPair['text'][annotationQidDocPair.docno == doc].values[0]\n",
    "queries = annotationQidDocPair.qid.unique()\n",
    "qidQuery = {}\n",
    "for que in queries:\n",
    "    qidQuery[que] = annotationQidDocPair['query'][annotationQidDocPair.qid == que].values[0]"
   ]
  },
  {
   "cell_type": "code",
   "execution_count": null,
   "metadata": {},
   "outputs": [],
   "source": [
    "queryDocPair = {}\n",
    "for index1 in range(len(annotationQidDocPair.qid)):\n",
    "    if (annotationQidDocPair.qid[index1] not in queryDocPair.keys()):\n",
    "        queryDocPair[annotationQidDocPair.qid[index1]] = []\n",
    "    queryDocPair[annotationQidDocPair.qid[index1]].append(annotationQidDocPair.docno[index1])\n",
    "queryAddPair = pd.DataFrame()\n",
    "for key, values in queryDocPair.items():\n",
    "    newDoc = np.setdiff1d(documents, values)\n",
    "    for val in newDoc:\n",
    "        queryAddPair = queryAddPair.append(\n",
    "            {'docno': val,'text':docText[val],'rank':0,'query': qidQuery[key],'qid':key }, \n",
    "            ignore_index=True)\n"
   ]
  },
  {
   "cell_type": "code",
   "execution_count": null,
   "metadata": {},
   "outputs": [],
   "source": []
  },
  {
   "cell_type": "code",
   "execution_count": 164,
   "metadata": {},
   "outputs": [],
   "source": [
    "queryAddPair1 = queryAddPair[['docno','text','rank','query','qid']]\n",
    "queryAddPair1['docno'] = queryAddPair1['docno'].astype(int)\n",
    "queryAddPair1['qid'] = queryAddPair1['qid'].astype(int)\n",
    "queryAddPair1['rank'] = queryAddPair1['rank'].astype(int)\n",
    "qidDocPair = pd.concat([annotationQidDocPair, queryAddPair1], axis = 0)\n",
    "qidDocPair = qidDocPair.reset_index()\n",
    "qidDocPair = qidDocPair.drop(['index'],axis = 1)\n",
    "#qidDocPair.to_csv('qidDocPair.csv')\n",
    "qidDocPair = qidDocPair.sort_values(by = ['qid','docno'])\n",
    "qidDocPair['docno'] = qidDocPair['docno'].astype(str)\n",
    "qidDocPair['qid'] = qidDocPair['qid'].astype(str)\n",
    "qidDocPair\n",
    "qidDocPair.to_csv(\"qidDocPair.csv\")"
   ]
  },
  {
   "cell_type": "code",
   "execution_count": null,
   "metadata": {},
   "outputs": [],
   "source": []
  },
  {
   "cell_type": "markdown",
   "metadata": {},
   "source": [
    "Task 2.5: create our baseline(bm25, randomEstimate)"
   ]
  },
  {
   "cell_type": "code",
   "execution_count": 9,
   "metadata": {},
   "outputs": [],
   "source": [
    "### split on query\n",
    "SEED=42\n",
    "from sklearn.model_selection import train_test_split\n",
    "tr_va_topics, test_topics = train_test_split(query, test_size=30, random_state=SEED)\n",
    "train_topics, valid_topics =  train_test_split(tr_va_topics, test_size=10, random_state=SEED)\n",
    "\n",
    "X_train, X_test, y_train, y_test = train_test_split(query[['qid']], \n",
    "                                                    query['query'],\n",
    "                                                    test_size = 0.4,\n",
    "                                                    random_state = 0)"
   ]
  },
  {
   "cell_type": "code",
   "execution_count": 10,
   "metadata": {},
   "outputs": [],
   "source": [
    "testQuerySet = pd.concat([X_test,y_test], axis = 1)"
   ]
  },
  {
   "cell_type": "code",
   "execution_count": 11,
   "metadata": {},
   "outputs": [
    {
     "data": {
      "text/html": [
       "<div>\n",
       "<style scoped>\n",
       "    .dataframe tbody tr th:only-of-type {\n",
       "        vertical-align: middle;\n",
       "    }\n",
       "\n",
       "    .dataframe tbody tr th {\n",
       "        vertical-align: top;\n",
       "    }\n",
       "\n",
       "    .dataframe thead th {\n",
       "        text-align: right;\n",
       "    }\n",
       "</style>\n",
       "<table border=\"1\" class=\"dataframe\">\n",
       "  <thead>\n",
       "    <tr style=\"text-align: right;\">\n",
       "      <th></th>\n",
       "      <th>name</th>\n",
       "      <th>map</th>\n",
       "      <th>ndcg</th>\n",
       "      <th>ndcg_cut_5</th>\n",
       "      <th>ndcg_cut_10</th>\n",
       "    </tr>\n",
       "  </thead>\n",
       "  <tbody>\n",
       "    <tr>\n",
       "      <td>0</td>\n",
       "      <td>random</td>\n",
       "      <td>0.571689</td>\n",
       "      <td>0.817999</td>\n",
       "      <td>0.628267</td>\n",
       "      <td>0.603119</td>\n",
       "    </tr>\n",
       "    <tr>\n",
       "      <td>1</td>\n",
       "      <td>bm25</td>\n",
       "      <td>0.735739</td>\n",
       "      <td>0.837229</td>\n",
       "      <td>0.702950</td>\n",
       "      <td>0.709414</td>\n",
       "    </tr>\n",
       "  </tbody>\n",
       "</table>\n",
       "</div>"
      ],
      "text/plain": [
       "     name       map      ndcg  ndcg_cut_5  ndcg_cut_10\n",
       "0  random  0.571689  0.817999    0.628267     0.603119\n",
       "1    bm25  0.735739  0.837229    0.702950     0.709414"
      ]
     },
     "execution_count": 11,
     "metadata": {},
     "output_type": "execute_result"
    }
   ],
   "source": [
    "import random\n",
    "bm25 = pt.BatchRetrieve(index, wmodel = 'BM25')\n",
    "pl2 = pt.BatchRetrieve(index, wmodel=\"PL2\")\n",
    "bm250 = pt.BatchRetrieve(index, wmodel= 'BM25')\n",
    "\n",
    "def random(keyFreq, posting, entryStats, collStats):\n",
    "    score = 4\n",
    "    return score\n",
    "\n",
    "random = pt.BatchRetrieve(index, wmodel = random)\n",
    "\n",
    "pt.Experiment(\n",
    "    [random, bm250],\n",
    "    testQuerySet,\n",
    "    relevance,\n",
    "    eval_metrics=[\"map\", \"ndcg\", \"ndcg_cut_5\", \"ndcg_cut_10\"],\n",
    "    names = [\"random\", \"bm25\"])"
   ]
  },
  {
   "cell_type": "markdown",
   "metadata": {},
   "source": [
    "Task 2.6: relevance score visulization"
   ]
  },
  {
   "cell_type": "code",
   "execution_count": 246,
   "metadata": {},
   "outputs": [
    {
     "name": "stdout",
     "output_type": "stream",
     "text": [
      "Brunei Darussalam Coinfection.policies.Intensified.TB.case.finding.among.people.living.with.HIV Yes [UNAIDS National Commitments and Policy Instrument 2019]\n"
     ]
    }
   ],
   "source": [
    "print(policy['text'][10000])"
   ]
  },
  {
   "cell_type": "code",
   "execution_count": 259,
   "metadata": {},
   "outputs": [
    {
     "data": {
      "text/plain": [
       "Text(0, 0.5, 'count')"
      ]
     },
     "execution_count": 259,
     "metadata": {},
     "output_type": "execute_result"
    },
    {
     "data": {
      "image/png": "[encoded data removed]",
      "text/plain": [
       "<Figure size 432x288 with 1 Axes>"
      ]
     },
     "metadata": {
      "needs_background": "light"
     },
     "output_type": "display_data"
    }
   ],
   "source": [
    "import matplotlib.pyplot as plt\n",
    "import seaborn as sns\n",
    "plt.hist(annotation['rank'])\n",
    "\n",
    "plt.title('relevance score distribution')\n",
    "plt.xlabel('relevance scores')\n",
    "plt.ylabel('count')"
   ]
  },
  {
   "cell_type": "markdown",
   "metadata": {},
   "source": [
    "Task 3.1: First try on learn to rank algorithm"
   ]
  },
  {
   "cell_type": "code",
   "execution_count": 12,
   "metadata": {},
   "outputs": [],
   "source": [
    "tfidf = pt.BatchRetrieve(index, wmodel=\"TF_IDF\")\n",
    "\n",
    "ltr_feats1 = pt.BatchRetrieve(index) >> (\n",
    "    bm25\n",
    "    **\n",
    "    tfidf\n",
    "    **\n",
    "    pt.BatchRetrieve(index, wmodel=\"CoordinateMatch\")\n",
    ")"
   ]
  },
  {
   "cell_type": "code",
   "execution_count": 76,
   "metadata": {},
   "outputs": [
    {
     "data": {
      "text/html": [
       "<div>\n",
       "<style scoped>\n",
       "    .dataframe tbody tr th:only-of-type {\n",
       "        vertical-align: middle;\n",
       "    }\n",
       "\n",
       "    .dataframe tbody tr th {\n",
       "        vertical-align: top;\n",
       "    }\n",
       "\n",
       "    .dataframe thead th {\n",
       "        text-align: right;\n",
       "    }\n",
       "</style>\n",
       "<table border=\"1\" class=\"dataframe\">\n",
       "  <thead>\n",
       "    <tr style=\"text-align: right;\">\n",
       "      <th></th>\n",
       "      <th>name</th>\n",
       "      <th>map</th>\n",
       "      <th>ndcg</th>\n",
       "      <th>ndcg_cut_10</th>\n",
       "      <th>num_rel_ret</th>\n",
       "      <th>mrt</th>\n",
       "    </tr>\n",
       "  </thead>\n",
       "  <tbody>\n",
       "    <tr>\n",
       "      <td>0</td>\n",
       "      <td>BR(TF_IDF)</td>\n",
       "      <td>0.780551</td>\n",
       "      <td>0.877318</td>\n",
       "      <td>0.696487</td>\n",
       "      <td>3000.0</td>\n",
       "      <td>22.332284</td>\n",
       "    </tr>\n",
       "    <tr>\n",
       "      <td>1</td>\n",
       "      <td>BR(PL2)</td>\n",
       "      <td>0.746804</td>\n",
       "      <td>0.879473</td>\n",
       "      <td>0.708953</td>\n",
       "      <td>3000.0</td>\n",
       "      <td>25.276841</td>\n",
       "    </tr>\n",
       "    <tr>\n",
       "      <td>2</td>\n",
       "      <td>BR(CoordinateMatch)</td>\n",
       "      <td>0.520123</td>\n",
       "      <td>0.789584</td>\n",
       "      <td>0.560093</td>\n",
       "      <td>2950.0</td>\n",
       "      <td>21.846610</td>\n",
       "    </tr>\n",
       "    <tr>\n",
       "      <td>3</td>\n",
       "      <td>BR(BM25)</td>\n",
       "      <td>0.679230</td>\n",
       "      <td>0.794925</td>\n",
       "      <td>0.647895</td>\n",
       "      <td>2728.0</td>\n",
       "      <td>22.849564</td>\n",
       "    </tr>\n",
       "  </tbody>\n",
       "</table>\n",
       "</div>"
      ],
      "text/plain": [
       "                  name       map      ndcg  ndcg_cut_10  num_rel_ret  \\\n",
       "0           BR(TF_IDF)  0.780551  0.877318     0.696487       3000.0   \n",
       "1              BR(PL2)  0.746804  0.879473     0.708953       3000.0   \n",
       "2  BR(CoordinateMatch)  0.520123  0.789584     0.560093       2950.0   \n",
       "3             BR(BM25)  0.679230  0.794925     0.647895       2728.0   \n",
       "\n",
       "         mrt  \n",
       "0  22.332284  \n",
       "1  25.276841  \n",
       "2  21.846610  \n",
       "3  22.849564  "
      ]
     },
     "execution_count": 76,
     "metadata": {},
     "output_type": "execute_result"
    }
   ],
   "source": [
    "pt.Experiment(\n",
    "    [tfidf, pl2, coordinate, bm25],\n",
    "    test_topics,\n",
    "    relevance,\n",
    "    eval_metrics=[\"map\", \"ndcg\", \"ndcg_cut_10\", \"mrt\", \"num_rel_ret\"])"
   ]
  },
  {
   "cell_type": "code",
   "execution_count": 13,
   "metadata": {},
   "outputs": [
    {
     "name": "stderr",
     "output_type": "stream",
     "text": [
      "[Parallel(n_jobs=2)]: Using backend ThreadingBackend with 2 concurrent workers.\n",
      "[Parallel(n_jobs=2)]: Done  46 tasks      | elapsed:    0.2s\n",
      "[Parallel(n_jobs=2)]: Done 196 tasks      | elapsed:    1.0s\n"
     ]
    },
    {
     "name": "stdout",
     "output_type": "stream",
     "text": [
      "CPU times: user 17.9 s, sys: 376 ms, total: 18.3 s\n",
      "Wall time: 14.8 s\n"
     ]
    },
    {
     "name": "stderr",
     "output_type": "stream",
     "text": [
      "[Parallel(n_jobs=2)]: Done 400 out of 400 | elapsed:    2.1s finished\n"
     ]
    }
   ],
   "source": [
    "from sklearn.ensemble import RandomForestRegressor\n",
    "\n",
    "rf = RandomForestRegressor(n_estimators=400, verbose=1, random_state=SEED, n_jobs=2)\n",
    "\n",
    "rf_pipe = ltr_feats1 >> pt.ltr.apply_learned_model(rf)\n",
    "qrels = relevance.copy()\n",
    "%time rf_pipe.fit(train_topics, qrels)"
   ]
  },
  {
   "cell_type": "code",
   "execution_count": 14,
   "metadata": {},
   "outputs": [
    {
     "name": "stdout",
     "output_type": "stream",
     "text": [
      "CPU times: user 16.9 s, sys: 183 ms, total: 17.1 s\n",
      "Wall time: 13.5 s\n"
     ]
    }
   ],
   "source": [
    "import fastrank\n",
    "train_request = fastrank.TrainRequest.coordinate_ascent()\n",
    "\n",
    "params = train_request.params\n",
    "params.init_random = True\n",
    "params.normalize = True\n",
    "params.seed = 1234567\n",
    "\n",
    "ca_pipe = ltr_feats1 >> pt.ltr.apply_learned_model(train_request, form='fastrank')\n",
    "\n",
    "%time ca_pipe.fit(train_topics, qrels)"
   ]
  },
  {
   "cell_type": "code",
   "execution_count": 15,
   "metadata": {},
   "outputs": [
    {
     "name": "stdout",
     "output_type": "stream",
     "text": [
      "[LightGBM] [Warning] Unknown parameter: silent\n",
      "[LightGBM] [Warning] early_stopping_round is set=5, early_stopping_rounds=5 will be ignored. Current value: early_stopping_round=5\n",
      "[LightGBM] [Warning] min_data_in_leaf is set=1, min_child_samples=20 will be ignored. Current value: min_data_in_leaf=1\n",
      "[LightGBM] [Warning] min_sum_hessian_in_leaf is set=1, min_child_weight=0.001 will be ignored. Current value: min_sum_hessian_in_leaf=1\n",
      "[LightGBM] [Warning] Unknown parameter: silent\n",
      "[LightGBM] [Warning] min_data_in_leaf is set=1, min_child_samples=20 will be ignored. Current value: min_data_in_leaf=1\n",
      "[LightGBM] [Warning] min_sum_hessian_in_leaf is set=1, min_child_weight=0.001 will be ignored. Current value: min_sum_hessian_in_leaf=1\n",
      "[LightGBM] [Warning] Auto-choosing row-wise multi-threading, the overhead of testing was 0.000552 seconds.\n",
      "You can set `force_row_wise=true` to remove the overhead.\n",
      "And if memory is not enough, you can set `force_col_wise=true`.\n",
      "[LightGBM] [Info] Total Bins 515\n",
      "[LightGBM] [Info] Number of data points in the train set: 19068, number of used features: 3\n",
      "[LightGBM] [Warning] Unknown parameter: silent\n",
      "[LightGBM] [Warning] early_stopping_round is set=5, early_stopping_rounds=5 will be ignored. Current value: early_stopping_round=5\n",
      "[LightGBM] [Warning] min_data_in_leaf is set=1, min_child_samples=20 will be ignored. Current value: min_data_in_leaf=1\n",
      "[LightGBM] [Warning] min_sum_hessian_in_leaf is set=1, min_child_weight=0.001 will be ignored. Current value: min_sum_hessian_in_leaf=1\n",
      "Training until validation scores don't improve for 5 rounds\n",
      "Early stopping, best iteration is:\n",
      "[2]\tvalid_0's ndcg@10: 0.600361\n",
      "CPU times: user 18.1 s, sys: 329 ms, total: 18.5 s\n",
      "Wall time: 18.5 s\n"
     ]
    },
    {
     "name": "stderr",
     "output_type": "stream",
     "text": [
      "/Library/Frameworks/Python.framework/Versions/3.7/lib/python3.7/site-packages/lightgbm/sklearn.py:641: UserWarning: Found 'eval_at' in params. Will use it instead of 'eval_at' argument\n",
      "  _log_warning(f\"Found '{alias}' in params. Will use it instead of 'eval_at' argument\")\n",
      "/Library/Frameworks/Python.framework/Versions/3.7/lib/python3.7/site-packages/lightgbm/sklearn.py:641: UserWarning: Found 'ndcg_eval_at' in params. Will use it instead of 'eval_at' argument\n",
      "  _log_warning(f\"Found '{alias}' in params. Will use it instead of 'eval_at' argument\")\n",
      "/Library/Frameworks/Python.framework/Versions/3.7/lib/python3.7/site-packages/lightgbm/sklearn.py:641: UserWarning: Found 'ndcg_at' in params. Will use it instead of 'eval_at' argument\n",
      "  _log_warning(f\"Found '{alias}' in params. Will use it instead of 'eval_at' argument\")\n",
      "/Library/Frameworks/Python.framework/Versions/3.7/lib/python3.7/site-packages/lightgbm/engine.py:143: UserWarning: Found `num_iterations` in params. Will use it instead of argument\n",
      "  _log_warning(f\"Found `{alias}` in params. Will use it instead of argument\")\n"
     ]
    }
   ],
   "source": [
    "import lightgbm as lgb\n",
    "\n",
    "# this configures LightGBM as LambdaMART\n",
    "lmart_l = lgb.LGBMRanker(\n",
    "    task=\"train\",\n",
    "    silent=False,\n",
    "    min_data_in_leaf=1,\n",
    "    min_sum_hessian_in_leaf=1,\n",
    "    max_bin=255,\n",
    "    num_leaves=31,\n",
    "    objective=\"lambdarank\",\n",
    "    metric=\"ndcg\",\n",
    "    ndcg_eval_at=[10],\n",
    "    ndcg_at=[10],\n",
    "    eval_at=[10],\n",
    "    learning_rate= .1,\n",
    "    importance_type=\"gain\",\n",
    "    num_iterations=100,\n",
    "    early_stopping_rounds=5\n",
    ")\n",
    "\n",
    "lmart_x_pipe = ltr_feats1 >> pt.ltr.apply_learned_model(lmart_l, form=\"ltr\", fit_kwargs={'eval_at':[20]})\n",
    "\n",
    "%time lmart_x_pipe.fit(train_topics, qrels, valid_topics, qrels)"
   ]
  },
  {
   "cell_type": "code",
   "execution_count": 17,
   "metadata": {},
   "outputs": [
    {
     "name": "stderr",
     "output_type": "stream",
     "text": [
      "[Parallel(n_jobs=2)]: Using backend ThreadingBackend with 2 concurrent workers.\n",
      "[Parallel(n_jobs=2)]: Done  46 tasks      | elapsed:    0.0s\n",
      "[Parallel(n_jobs=2)]: Done 196 tasks      | elapsed:    0.1s\n",
      "[Parallel(n_jobs=2)]: Done 400 out of 400 | elapsed:    0.2s finished\n",
      "/Library/Frameworks/Python.framework/Versions/3.7/lib/python3.7/site-packages/lightgbm/sklearn.py:641: UserWarning: Found 'eval_at' in params. Will use it instead of 'eval_at' argument\n",
      "  _log_warning(f\"Found '{alias}' in params. Will use it instead of 'eval_at' argument\")\n",
      "/Library/Frameworks/Python.framework/Versions/3.7/lib/python3.7/site-packages/lightgbm/sklearn.py:641: UserWarning: Found 'ndcg_eval_at' in params. Will use it instead of 'eval_at' argument\n",
      "  _log_warning(f\"Found '{alias}' in params. Will use it instead of 'eval_at' argument\")\n",
      "/Library/Frameworks/Python.framework/Versions/3.7/lib/python3.7/site-packages/lightgbm/sklearn.py:641: UserWarning: Found 'ndcg_at' in params. Will use it instead of 'eval_at' argument\n",
      "  _log_warning(f\"Found '{alias}' in params. Will use it instead of 'eval_at' argument\")\n"
     ]
    },
    {
     "name": "stdout",
     "output_type": "stream",
     "text": [
      "[LightGBM] [Warning] Unknown parameter: silent\n",
      "[LightGBM] [Warning] min_sum_hessian_in_leaf is set=1, min_child_weight=0.001 will be ignored. Current value: min_sum_hessian_in_leaf=1\n",
      "[LightGBM] [Warning] min_data_in_leaf is set=1, min_child_samples=20 will be ignored. Current value: min_data_in_leaf=1\n"
     ]
    },
    {
     "data": {
      "text/html": [
       "<div>\n",
       "<style scoped>\n",
       "    .dataframe tbody tr th:only-of-type {\n",
       "        vertical-align: middle;\n",
       "    }\n",
       "\n",
       "    .dataframe tbody tr th {\n",
       "        vertical-align: top;\n",
       "    }\n",
       "\n",
       "    .dataframe thead th {\n",
       "        text-align: right;\n",
       "    }\n",
       "</style>\n",
       "<table border=\"1\" class=\"dataframe\">\n",
       "  <thead>\n",
       "    <tr style=\"text-align: right;\">\n",
       "      <th></th>\n",
       "      <th>name</th>\n",
       "      <th>map</th>\n",
       "      <th>ndcg</th>\n",
       "      <th>ndcg_cut_10</th>\n",
       "      <th>map +</th>\n",
       "      <th>map -</th>\n",
       "      <th>map p-value</th>\n",
       "      <th>ndcg +</th>\n",
       "      <th>ndcg -</th>\n",
       "      <th>ndcg p-value</th>\n",
       "      <th>ndcg_cut_10 +</th>\n",
       "      <th>ndcg_cut_10 -</th>\n",
       "      <th>ndcg_cut_10 p-value</th>\n",
       "    </tr>\n",
       "  </thead>\n",
       "  <tbody>\n",
       "    <tr>\n",
       "      <td>0</td>\n",
       "      <td>fastrank</td>\n",
       "      <td>0.757483</td>\n",
       "      <td>0.877248</td>\n",
       "      <td>0.716688</td>\n",
       "      <td>20.0</td>\n",
       "      <td>9.0</td>\n",
       "      <td>0.004834</td>\n",
       "      <td>18.0</td>\n",
       "      <td>11.0</td>\n",
       "      <td>0.012514</td>\n",
       "      <td>15.0</td>\n",
       "      <td>7.0</td>\n",
       "      <td>0.027914</td>\n",
       "    </tr>\n",
       "    <tr>\n",
       "      <td>1</td>\n",
       "      <td>random forest</td>\n",
       "      <td>0.612634</td>\n",
       "      <td>0.813864</td>\n",
       "      <td>0.577559</td>\n",
       "      <td>11.0</td>\n",
       "      <td>19.0</td>\n",
       "      <td>0.239225</td>\n",
       "      <td>11.0</td>\n",
       "      <td>19.0</td>\n",
       "      <td>0.616351</td>\n",
       "      <td>8.0</td>\n",
       "      <td>17.0</td>\n",
       "      <td>0.199593</td>\n",
       "    </tr>\n",
       "    <tr>\n",
       "      <td>2</td>\n",
       "      <td>LambdaMart</td>\n",
       "      <td>0.639680</td>\n",
       "      <td>0.832620</td>\n",
       "      <td>0.657538</td>\n",
       "      <td>13.0</td>\n",
       "      <td>17.0</td>\n",
       "      <td>0.433248</td>\n",
       "      <td>12.0</td>\n",
       "      <td>18.0</td>\n",
       "      <td>0.289042</td>\n",
       "      <td>12.0</td>\n",
       "      <td>13.0</td>\n",
       "      <td>0.784914</td>\n",
       "    </tr>\n",
       "    <tr>\n",
       "      <td>3</td>\n",
       "      <td>bm25</td>\n",
       "      <td>0.679230</td>\n",
       "      <td>0.794925</td>\n",
       "      <td>0.647895</td>\n",
       "      <td>NaN</td>\n",
       "      <td>NaN</td>\n",
       "      <td>NaN</td>\n",
       "      <td>NaN</td>\n",
       "      <td>NaN</td>\n",
       "      <td>NaN</td>\n",
       "      <td>NaN</td>\n",
       "      <td>NaN</td>\n",
       "      <td>NaN</td>\n",
       "    </tr>\n",
       "    <tr>\n",
       "      <td>4</td>\n",
       "      <td>random</td>\n",
       "      <td>0.520123</td>\n",
       "      <td>0.789584</td>\n",
       "      <td>0.560093</td>\n",
       "      <td>9.0</td>\n",
       "      <td>21.0</td>\n",
       "      <td>0.010047</td>\n",
       "      <td>9.0</td>\n",
       "      <td>21.0</td>\n",
       "      <td>0.889580</td>\n",
       "      <td>9.0</td>\n",
       "      <td>18.0</td>\n",
       "      <td>0.120093</td>\n",
       "    </tr>\n",
       "  </tbody>\n",
       "</table>\n",
       "</div>"
      ],
      "text/plain": [
       "            name       map      ndcg  ndcg_cut_10  map +  map -  map p-value  \\\n",
       "0       fastrank  0.757483  0.877248     0.716688   20.0    9.0     0.004834   \n",
       "1  random forest  0.612634  0.813864     0.577559   11.0   19.0     0.239225   \n",
       "2     LambdaMart  0.639680  0.832620     0.657538   13.0   17.0     0.433248   \n",
       "3           bm25  0.679230  0.794925     0.647895    NaN    NaN          NaN   \n",
       "4         random  0.520123  0.789584     0.560093    9.0   21.0     0.010047   \n",
       "\n",
       "   ndcg +  ndcg -  ndcg p-value  ndcg_cut_10 +  ndcg_cut_10 -  \\\n",
       "0    18.0    11.0      0.012514           15.0            7.0   \n",
       "1    11.0    19.0      0.616351            8.0           17.0   \n",
       "2    12.0    18.0      0.289042           12.0           13.0   \n",
       "3     NaN     NaN           NaN            NaN            NaN   \n",
       "4     9.0    21.0      0.889580            9.0           18.0   \n",
       "\n",
       "   ndcg_cut_10 p-value  \n",
       "0             0.027914  \n",
       "1             0.199593  \n",
       "2             0.784914  \n",
       "3                  NaN  \n",
       "4             0.120093  "
      ]
     },
     "execution_count": 17,
     "metadata": {},
     "output_type": "execute_result"
    }
   ],
   "source": [
    "pt.Experiment(\n",
    "    [ca_pipe, rf_pipe, lmart_x_pipe, bm25, random],\n",
    "    test_topics,\n",
    "    relevance,\n",
    "    eval_metrics=[\"map\", \"ndcg\", \"ndcg_cut_10\"],\n",
    "    baseline = 3,\n",
    "    names = [\"fastrank\",\"random forest\",\"LambdaMart\", \"bm25\", 'random'])"
   ]
  },
  {
   "cell_type": "code",
   "execution_count": null,
   "metadata": {},
   "outputs": [],
   "source": []
  },
  {
   "cell_type": "markdown",
   "metadata": {},
   "source": [
    "Task 3.2: Add more features and test the performance"
   ]
  },
  {
   "cell_type": "code",
   "execution_count": 18,
   "metadata": {},
   "outputs": [
    {
     "name": "stderr",
     "output_type": "stream",
     "text": [
      "[Parallel(n_jobs=2)]: Using backend ThreadingBackend with 2 concurrent workers.\n",
      "[Parallel(n_jobs=2)]: Done  46 tasks      | elapsed:    0.2s\n",
      "[Parallel(n_jobs=2)]: Done 196 tasks      | elapsed:    1.0s\n"
     ]
    },
    {
     "name": "stdout",
     "output_type": "stream",
     "text": [
      "CPU times: user 16 s, sys: 203 ms, total: 16.2 s\n",
      "Wall time: 14.3 s\n"
     ]
    },
    {
     "name": "stderr",
     "output_type": "stream",
     "text": [
      "[Parallel(n_jobs=2)]: Done 400 out of 400 | elapsed:    2.1s finished\n"
     ]
    }
   ],
   "source": [
    "tfidf = pt.BatchRetrieve(index, wmodel=\"TF_IDF\")\n",
    "\n",
    "ltr_feats2 = pt.BatchRetrieve(index) >> (\n",
    "    tfidf\n",
    "    **\n",
    "    pl2\n",
    "    **\n",
    "    pt.BatchRetrieve(index, wmodel=\"CoordinateMatch\")\n",
    ")\n",
    "\n",
    "from sklearn.ensemble import RandomForestRegressor\n",
    "\n",
    "rf = RandomForestRegressor(n_estimators=400, verbose=1, random_state=SEED, n_jobs=2)\n",
    "\n",
    "rf_pipe = ltr_feats2 >> pt.ltr.apply_learned_model(rf)\n",
    "qrels = relevance.copy()\n",
    "%time rf_pipe.fit(train_topics, qrels)"
   ]
  },
  {
   "cell_type": "code",
   "execution_count": 19,
   "metadata": {},
   "outputs": [
    {
     "name": "stdout",
     "output_type": "stream",
     "text": [
      "CPU times: user 16.3 s, sys: 158 ms, total: 16.4 s\n",
      "Wall time: 13.3 s\n"
     ]
    }
   ],
   "source": [
    "import fastrank\n",
    "train_request = fastrank.TrainRequest.coordinate_ascent()\n",
    "\n",
    "params = train_request.params\n",
    "params.init_random = True\n",
    "params.normalize = True\n",
    "params.seed = 1234567\n",
    "\n",
    "ca_pipe = ltr_feats2 >> pt.ltr.apply_learned_model(train_request, form='fastrank')\n",
    "\n",
    "%time ca_pipe.fit(train_topics, qrels)"
   ]
  },
  {
   "cell_type": "code",
   "execution_count": 20,
   "metadata": {},
   "outputs": [
    {
     "name": "stdout",
     "output_type": "stream",
     "text": [
      "[LightGBM] [Warning] Unknown parameter: silent\n",
      "[LightGBM] [Warning] early_stopping_round is set=5, early_stopping_rounds=5 will be ignored. Current value: early_stopping_round=5\n",
      "[LightGBM] [Warning] min_data_in_leaf is set=1, min_child_samples=20 will be ignored. Current value: min_data_in_leaf=1\n",
      "[LightGBM] [Warning] min_sum_hessian_in_leaf is set=1, min_child_weight=0.001 will be ignored. Current value: min_sum_hessian_in_leaf=1\n",
      "[LightGBM] [Warning] Unknown parameter: silent\n",
      "[LightGBM] [Warning] min_data_in_leaf is set=1, min_child_samples=20 will be ignored. Current value: min_data_in_leaf=1\n",
      "[LightGBM] [Warning] min_sum_hessian_in_leaf is set=1, min_child_weight=0.001 will be ignored. Current value: min_sum_hessian_in_leaf=1\n",
      "[LightGBM] [Warning] Auto-choosing row-wise multi-threading, the overhead of testing was 0.000156 seconds.\n",
      "You can set `force_row_wise=true` to remove the overhead.\n",
      "And if memory is not enough, you can set `force_col_wise=true`.\n",
      "[LightGBM] [Info] Total Bins 515\n",
      "[LightGBM] [Info] Number of data points in the train set: 19068, number of used features: 3\n",
      "[LightGBM] [Warning] Unknown parameter: silent\n",
      "[LightGBM] [Warning] early_stopping_round is set=5, early_stopping_rounds=5 will be ignored. Current value: early_stopping_round=5\n",
      "[LightGBM] [Warning] min_data_in_leaf is set=1, min_child_samples=20 will be ignored. Current value: min_data_in_leaf=1\n",
      "[LightGBM] [Warning] min_sum_hessian_in_leaf is set=1, min_child_weight=0.001 will be ignored. Current value: min_sum_hessian_in_leaf=1\n",
      "Training until validation scores don't improve for 5 rounds\n",
      "Early stopping, best iteration is:\n",
      "[7]\tvalid_0's ndcg@10: 0.582083\n",
      "CPU times: user 18 s, sys: 238 ms, total: 18.2 s\n",
      "Wall time: 18.3 s\n"
     ]
    },
    {
     "name": "stderr",
     "output_type": "stream",
     "text": [
      "/Library/Frameworks/Python.framework/Versions/3.7/lib/python3.7/site-packages/lightgbm/sklearn.py:641: UserWarning: Found 'eval_at' in params. Will use it instead of 'eval_at' argument\n",
      "  _log_warning(f\"Found '{alias}' in params. Will use it instead of 'eval_at' argument\")\n",
      "/Library/Frameworks/Python.framework/Versions/3.7/lib/python3.7/site-packages/lightgbm/sklearn.py:641: UserWarning: Found 'ndcg_eval_at' in params. Will use it instead of 'eval_at' argument\n",
      "  _log_warning(f\"Found '{alias}' in params. Will use it instead of 'eval_at' argument\")\n",
      "/Library/Frameworks/Python.framework/Versions/3.7/lib/python3.7/site-packages/lightgbm/sklearn.py:641: UserWarning: Found 'ndcg_at' in params. Will use it instead of 'eval_at' argument\n",
      "  _log_warning(f\"Found '{alias}' in params. Will use it instead of 'eval_at' argument\")\n",
      "/Library/Frameworks/Python.framework/Versions/3.7/lib/python3.7/site-packages/lightgbm/engine.py:143: UserWarning: Found `num_iterations` in params. Will use it instead of argument\n",
      "  _log_warning(f\"Found `{alias}` in params. Will use it instead of argument\")\n"
     ]
    }
   ],
   "source": [
    "import lightgbm as lgb\n",
    "\n",
    "# this configures LightGBM as LambdaMART\n",
    "lmart_l = lgb.LGBMRanker(\n",
    "    task=\"train\",\n",
    "    silent=False,\n",
    "    min_data_in_leaf=1,\n",
    "    min_sum_hessian_in_leaf=1,\n",
    "    max_bin=255,\n",
    "    num_leaves=31,\n",
    "    objective=\"lambdarank\",\n",
    "    metric=\"ndcg\",\n",
    "    ndcg_eval_at=[10],\n",
    "    ndcg_at=[10],\n",
    "    eval_at=[10],\n",
    "    learning_rate= .1,\n",
    "    importance_type=\"gain\",\n",
    "    num_iterations=100,\n",
    "    early_stopping_rounds=5\n",
    ")\n",
    "\n",
    "lmart_x_pipe = ltr_feats2 >> pt.ltr.apply_learned_model(lmart_l, form=\"ltr\", fit_kwargs={'eval_at':[20]})\n",
    "\n",
    "%time lmart_x_pipe.fit(train_topics, qrels, valid_topics, qrels)"
   ]
  },
  {
   "cell_type": "code",
   "execution_count": 24,
   "metadata": {},
   "outputs": [
    {
     "name": "stderr",
     "output_type": "stream",
     "text": [
      "[Parallel(n_jobs=2)]: Using backend ThreadingBackend with 2 concurrent workers.\n",
      "[Parallel(n_jobs=2)]: Done  46 tasks      | elapsed:    0.0s\n",
      "[Parallel(n_jobs=2)]: Done 196 tasks      | elapsed:    0.1s\n",
      "[Parallel(n_jobs=2)]: Done 400 out of 400 | elapsed:    0.2s finished\n",
      "/Library/Frameworks/Python.framework/Versions/3.7/lib/python3.7/site-packages/lightgbm/sklearn.py:641: UserWarning: Found 'eval_at' in params. Will use it instead of 'eval_at' argument\n",
      "  _log_warning(f\"Found '{alias}' in params. Will use it instead of 'eval_at' argument\")\n",
      "/Library/Frameworks/Python.framework/Versions/3.7/lib/python3.7/site-packages/lightgbm/sklearn.py:641: UserWarning: Found 'ndcg_eval_at' in params. Will use it instead of 'eval_at' argument\n",
      "  _log_warning(f\"Found '{alias}' in params. Will use it instead of 'eval_at' argument\")\n",
      "/Library/Frameworks/Python.framework/Versions/3.7/lib/python3.7/site-packages/lightgbm/sklearn.py:641: UserWarning: Found 'ndcg_at' in params. Will use it instead of 'eval_at' argument\n",
      "  _log_warning(f\"Found '{alias}' in params. Will use it instead of 'eval_at' argument\")\n"
     ]
    },
    {
     "name": "stdout",
     "output_type": "stream",
     "text": [
      "[LightGBM] [Warning] Unknown parameter: silent\n",
      "[LightGBM] [Warning] min_sum_hessian_in_leaf is set=1, min_child_weight=0.001 will be ignored. Current value: min_sum_hessian_in_leaf=1\n",
      "[LightGBM] [Warning] min_data_in_leaf is set=1, min_child_samples=20 will be ignored. Current value: min_data_in_leaf=1\n"
     ]
    },
    {
     "data": {
      "text/html": [
       "<div>\n",
       "<style scoped>\n",
       "    .dataframe tbody tr th:only-of-type {\n",
       "        vertical-align: middle;\n",
       "    }\n",
       "\n",
       "    .dataframe tbody tr th {\n",
       "        vertical-align: top;\n",
       "    }\n",
       "\n",
       "    .dataframe thead th {\n",
       "        text-align: right;\n",
       "    }\n",
       "</style>\n",
       "<table border=\"1\" class=\"dataframe\">\n",
       "  <thead>\n",
       "    <tr style=\"text-align: right;\">\n",
       "      <th></th>\n",
       "      <th>name</th>\n",
       "      <th>map</th>\n",
       "      <th>ndcg</th>\n",
       "      <th>ndcg_cut_10</th>\n",
       "      <th>map +</th>\n",
       "      <th>map -</th>\n",
       "      <th>map p-value</th>\n",
       "      <th>ndcg +</th>\n",
       "      <th>ndcg -</th>\n",
       "      <th>ndcg p-value</th>\n",
       "      <th>ndcg_cut_10 +</th>\n",
       "      <th>ndcg_cut_10 -</th>\n",
       "      <th>ndcg_cut_10 p-value</th>\n",
       "    </tr>\n",
       "  </thead>\n",
       "  <tbody>\n",
       "    <tr>\n",
       "      <td>0</td>\n",
       "      <td>fastrank</td>\n",
       "      <td>0.759344</td>\n",
       "      <td>0.876502</td>\n",
       "      <td>0.707073</td>\n",
       "      <td>21.0</td>\n",
       "      <td>7.0</td>\n",
       "      <td>0.002773</td>\n",
       "      <td>20.0</td>\n",
       "      <td>10.0</td>\n",
       "      <td>0.011441</td>\n",
       "      <td>17.0</td>\n",
       "      <td>6.0</td>\n",
       "      <td>0.038486</td>\n",
       "    </tr>\n",
       "    <tr>\n",
       "      <td>1</td>\n",
       "      <td>random forest</td>\n",
       "      <td>0.613418</td>\n",
       "      <td>0.829489</td>\n",
       "      <td>0.625749</td>\n",
       "      <td>13.0</td>\n",
       "      <td>17.0</td>\n",
       "      <td>0.222366</td>\n",
       "      <td>15.0</td>\n",
       "      <td>15.0</td>\n",
       "      <td>0.355361</td>\n",
       "      <td>13.0</td>\n",
       "      <td>14.0</td>\n",
       "      <td>0.710850</td>\n",
       "    </tr>\n",
       "    <tr>\n",
       "      <td>2</td>\n",
       "      <td>LambdaMart</td>\n",
       "      <td>0.569892</td>\n",
       "      <td>0.791564</td>\n",
       "      <td>0.533028</td>\n",
       "      <td>10.0</td>\n",
       "      <td>20.0</td>\n",
       "      <td>0.048780</td>\n",
       "      <td>8.0</td>\n",
       "      <td>22.0</td>\n",
       "      <td>0.926204</td>\n",
       "      <td>8.0</td>\n",
       "      <td>19.0</td>\n",
       "      <td>0.068488</td>\n",
       "    </tr>\n",
       "    <tr>\n",
       "      <td>3</td>\n",
       "      <td>bm25</td>\n",
       "      <td>0.679230</td>\n",
       "      <td>0.794925</td>\n",
       "      <td>0.647895</td>\n",
       "      <td>NaN</td>\n",
       "      <td>NaN</td>\n",
       "      <td>NaN</td>\n",
       "      <td>NaN</td>\n",
       "      <td>NaN</td>\n",
       "      <td>NaN</td>\n",
       "      <td>NaN</td>\n",
       "      <td>NaN</td>\n",
       "      <td>NaN</td>\n",
       "    </tr>\n",
       "    <tr>\n",
       "      <td>4</td>\n",
       "      <td>random</td>\n",
       "      <td>0.520123</td>\n",
       "      <td>0.789584</td>\n",
       "      <td>0.560093</td>\n",
       "      <td>9.0</td>\n",
       "      <td>21.0</td>\n",
       "      <td>0.010047</td>\n",
       "      <td>9.0</td>\n",
       "      <td>21.0</td>\n",
       "      <td>0.889580</td>\n",
       "      <td>9.0</td>\n",
       "      <td>18.0</td>\n",
       "      <td>0.120093</td>\n",
       "    </tr>\n",
       "  </tbody>\n",
       "</table>\n",
       "</div>"
      ],
      "text/plain": [
       "            name       map      ndcg  ndcg_cut_10  map +  map -  map p-value  \\\n",
       "0       fastrank  0.759344  0.876502     0.707073   21.0    7.0     0.002773   \n",
       "1  random forest  0.613418  0.829489     0.625749   13.0   17.0     0.222366   \n",
       "2     LambdaMart  0.569892  0.791564     0.533028   10.0   20.0     0.048780   \n",
       "3           bm25  0.679230  0.794925     0.647895    NaN    NaN          NaN   \n",
       "4         random  0.520123  0.789584     0.560093    9.0   21.0     0.010047   \n",
       "\n",
       "   ndcg +  ndcg -  ndcg p-value  ndcg_cut_10 +  ndcg_cut_10 -  \\\n",
       "0    20.0    10.0      0.011441           17.0            6.0   \n",
       "1    15.0    15.0      0.355361           13.0           14.0   \n",
       "2     8.0    22.0      0.926204            8.0           19.0   \n",
       "3     NaN     NaN           NaN            NaN            NaN   \n",
       "4     9.0    21.0      0.889580            9.0           18.0   \n",
       "\n",
       "   ndcg_cut_10 p-value  \n",
       "0             0.038486  \n",
       "1             0.710850  \n",
       "2             0.068488  \n",
       "3                  NaN  \n",
       "4             0.120093  "
      ]
     },
     "execution_count": 24,
     "metadata": {},
     "output_type": "execute_result"
    }
   ],
   "source": [
    "pt.Experiment(\n",
    "    [ca_pipe, rf_pipe, lmart_x_pipe, bm25,random],\n",
    "    test_topics,\n",
    "    relevance,\n",
    "    eval_metrics=[\"map\", \"ndcg\", \"ndcg_cut_10\"],\n",
    "    baseline = 3,\n",
    "    names = [\"fastrank\",\"random forest\",\"LambdaMart\", \"bm25\", 'random'])"
   ]
  },
  {
   "cell_type": "markdown",
   "metadata": {},
   "source": [
    "Task 3.3: Add cross encoder as features"
   ]
  },
  {
   "cell_type": "code",
   "execution_count": 25,
   "metadata": {},
   "outputs": [],
   "source": [
    "annotation1 = pd.read_csv('qidDocPair.csv').drop(['Unnamed: 0'], axis = 1)"
   ]
  },
  {
   "cell_type": "markdown",
   "metadata": {},
   "source": [
    "Task 3.3.1 create the cos-sim "
   ]
  },
  {
   "cell_type": "code",
   "execution_count": null,
   "metadata": {},
   "outputs": [],
   "source": [
    "#Run on Great Lakes\n",
    "from sentence_transformers.cross_encoder import CrossEncoder\n",
    "import numpy as np\n",
    "similarity = []\n",
    "\n",
    "for i in range(60):\n",
    "    qry = annotation1.iloc[(3937*(i+1)-1),3]\n",
    "    cor = annotation1.iloc[0:3937,1]\n",
    "    arrs = cor.values\n",
    "    \n",
    "    model = CrossEncoder('cross-encoder/stsb-distilroberta-base')\n",
    "    query = qry\n",
    "    corpus = arrs\n",
    "    sentence_combinations = [[query, corpus_sentence] for corpus_sentence in corpus]\n",
    "    similarity_scores = model.predict(sentence_combinations)\n",
    "    \n",
    "    for i in range(3937):\n",
    "        similarity.append(similarity_scores[i])"
   ]
  },
  {
   "cell_type": "code",
   "execution_count": null,
   "metadata": {},
   "outputs": [],
   "source": [
    "annotation1['similarity'] = similarity\n",
    "annotation1.to_csv(\"qidDocPair_result.csv\")"
   ]
  },
  {
   "cell_type": "markdown",
   "metadata": {},
   "source": [
    "Task 3.3.2 add the cos-sim into features"
   ]
  },
  {
   "cell_type": "code",
   "execution_count": 26,
   "metadata": {},
   "outputs": [],
   "source": [
    "relevance_test = pd.read_csv('qidDocPair_result.csv').drop(['Unnamed: 0'], axis = 1)\n",
    "relevance_test = relevance_test[['qid','docno','similarity']]\n",
    "relevance_test['qid'] = relevance_test['qid'].astype(str)\n",
    "relevance_test['docno'] = relevance_test['docno'].astype(str)\n",
    "\n",
    "dict3 = {}\n",
    "for i in relevance_test.index.values:\n",
    "    qid = relevance_test.loc[i,'qid']\n",
    "    docno = relevance_test.loc[i,'docno']\n",
    "    dict3[tuple([qid,docno])] = relevance_test.loc[i,'similarity']"
   ]
  },
  {
   "cell_type": "code",
   "execution_count": 55,
   "metadata": {},
   "outputs": [],
   "source": [
    "\n",
    "bienc_ltr_feats = pt.BatchRetrieve(index) >> (\n",
    "    tfidf\n",
    "    **\n",
    "    pl2\n",
    "    **\n",
    "    pt.BatchRetrieve(index, wmodel=\"CoordinateMatch\")\n",
    "    **\n",
    "    pt.apply.doc_score(lambda row: dict3[tuple([row.qid, row.docno])])\n",
    "    \n",
    ") \n"
   ]
  },
  {
   "cell_type": "code",
   "execution_count": null,
   "metadata": {},
   "outputs": [],
   "source": []
  },
  {
   "cell_type": "code",
   "execution_count": 28,
   "metadata": {},
   "outputs": [
    {
     "name": "stderr",
     "output_type": "stream",
     "text": [
      "[Parallel(n_jobs=2)]: Using backend ThreadingBackend with 2 concurrent workers.\n",
      "[Parallel(n_jobs=2)]: Done  46 tasks      | elapsed:    0.5s\n",
      "[Parallel(n_jobs=2)]: Done 196 tasks      | elapsed:    2.2s\n",
      "[Parallel(n_jobs=2)]: Done 400 out of 400 | elapsed:    4.6s finished\n"
     ]
    }
   ],
   "source": [
    "rf = RandomForestRegressor(n_estimators=400, verbose=1, random_state=SEED, n_jobs=2)\n",
    "rf_pipe = bienc_ltr_feats >> pt.ltr.apply_learned_model(rf)\n",
    "rf_pipe.fit(train_topics, relevance)"
   ]
  },
  {
   "cell_type": "code",
   "execution_count": 29,
   "metadata": {},
   "outputs": [],
   "source": [
    "train_request = fastrank.TrainRequest.coordinate_ascent()\n",
    "params = train_request.params\n",
    "params.init_random = True\n",
    "params.normalize = True\n",
    "params.seed = 1234567\n",
    "ca_pipe = bienc_ltr_feats >> pt.ltr.apply_learned_model(train_request, form='fastrank')\n",
    "ca_pipe.fit(train_topics, relevance)"
   ]
  },
  {
   "cell_type": "code",
   "execution_count": 56,
   "metadata": {},
   "outputs": [
    {
     "name": "stdout",
     "output_type": "stream",
     "text": [
      "[LightGBM] [Warning] Unknown parameter: silent\n",
      "[LightGBM] [Warning] early_stopping_round is set=5, early_stopping_rounds=5 will be ignored. Current value: early_stopping_round=5\n",
      "[LightGBM] [Warning] min_data_in_leaf is set=1, min_child_samples=20 will be ignored. Current value: min_data_in_leaf=1\n",
      "[LightGBM] [Warning] min_sum_hessian_in_leaf is set=1, min_child_weight=0.001 will be ignored. Current value: min_sum_hessian_in_leaf=1\n",
      "[LightGBM] [Warning] Unknown parameter: silent\n",
      "[LightGBM] [Warning] min_data_in_leaf is set=1, min_child_samples=20 will be ignored. Current value: min_data_in_leaf=1\n",
      "[LightGBM] [Warning] min_sum_hessian_in_leaf is set=1, min_child_weight=0.001 will be ignored. Current value: min_sum_hessian_in_leaf=1\n",
      "[LightGBM] [Warning] Auto-choosing row-wise multi-threading, the overhead of testing was 0.000208 seconds.\n",
      "You can set `force_row_wise=true` to remove the overhead.\n",
      "And if memory is not enough, you can set `force_col_wise=true`.\n",
      "[LightGBM] [Info] Total Bins 770\n",
      "[LightGBM] [Info] Number of data points in the train set: 21756, number of used features: 4\n",
      "[LightGBM] [Warning] Unknown parameter: silent\n",
      "[LightGBM] [Warning] early_stopping_round is set=5, early_stopping_rounds=5 will be ignored. Current value: early_stopping_round=5\n",
      "[LightGBM] [Warning] min_data_in_leaf is set=1, min_child_samples=20 will be ignored. Current value: min_data_in_leaf=1\n",
      "[LightGBM] [Warning] min_sum_hessian_in_leaf is set=1, min_child_weight=0.001 will be ignored. Current value: min_sum_hessian_in_leaf=1\n",
      "Training until validation scores don't improve for 5 rounds\n",
      "Early stopping, best iteration is:\n",
      "[2]\tvalid_0's ndcg@10: 0.542291\n"
     ]
    },
    {
     "name": "stderr",
     "output_type": "stream",
     "text": [
      "/Library/Frameworks/Python.framework/Versions/3.7/lib/python3.7/site-packages/lightgbm/engine.py:143: UserWarning: Found `num_iterations` in params. Will use it instead of argument\n",
      "  _log_warning(f\"Found `{alias}` in params. Will use it instead of argument\")\n"
     ]
    }
   ],
   "source": [
    "lmart_l = lgb.LGBMRanker(\n",
    "    task=\"train\",\n",
    "    silent=False,\n",
    "    min_data_in_leaf=1,\n",
    "    min_sum_hessian_in_leaf=1,\n",
    "    max_bin=255,\n",
    "    num_leaves=31,\n",
    "    objective=\"lambdarank\",\n",
    "    metric=\"ndcg\",\n",
    "    ndcg_eval_at=[10],\n",
    "    ndcg_at=[10],\n",
    "    eval_at=[10],\n",
    "    learning_rate= .1,\n",
    "    importance_type=\"gain\",\n",
    "    num_iterations=100,\n",
    "    early_stopping_rounds=5\n",
    ")\n",
    "lmart_x_pipe = bienc_ltr_feats >> pt.ltr.apply_learned_model(lmart_l, form=\"ltr\", fit_kwargs={'eval_at':[10]})\n",
    "\n",
    "lmart_x_pipe.fit(train_topics, relevance, valid_topics, relevance)\n"
   ]
  },
  {
   "cell_type": "code",
   "execution_count": null,
   "metadata": {},
   "outputs": [],
   "source": []
  },
  {
   "cell_type": "code",
   "execution_count": 31,
   "metadata": {},
   "outputs": [
    {
     "name": "stderr",
     "output_type": "stream",
     "text": [
      "[Parallel(n_jobs=2)]: Using backend ThreadingBackend with 2 concurrent workers.\n",
      "[Parallel(n_jobs=2)]: Done  46 tasks      | elapsed:    0.0s\n",
      "[Parallel(n_jobs=2)]: Done 196 tasks      | elapsed:    0.1s\n",
      "[Parallel(n_jobs=2)]: Done 400 out of 400 | elapsed:    0.3s finished\n",
      "/Library/Frameworks/Python.framework/Versions/3.7/lib/python3.7/site-packages/lightgbm/sklearn.py:641: UserWarning: Found 'eval_at' in params. Will use it instead of 'eval_at' argument\n",
      "  _log_warning(f\"Found '{alias}' in params. Will use it instead of 'eval_at' argument\")\n",
      "/Library/Frameworks/Python.framework/Versions/3.7/lib/python3.7/site-packages/lightgbm/sklearn.py:641: UserWarning: Found 'ndcg_eval_at' in params. Will use it instead of 'eval_at' argument\n",
      "  _log_warning(f\"Found '{alias}' in params. Will use it instead of 'eval_at' argument\")\n",
      "/Library/Frameworks/Python.framework/Versions/3.7/lib/python3.7/site-packages/lightgbm/sklearn.py:641: UserWarning: Found 'ndcg_at' in params. Will use it instead of 'eval_at' argument\n",
      "  _log_warning(f\"Found '{alias}' in params. Will use it instead of 'eval_at' argument\")\n"
     ]
    },
    {
     "name": "stdout",
     "output_type": "stream",
     "text": [
      "[LightGBM] [Warning] Unknown parameter: silent\n",
      "[LightGBM] [Warning] min_sum_hessian_in_leaf is set=1, min_child_weight=0.001 will be ignored. Current value: min_sum_hessian_in_leaf=1\n",
      "[LightGBM] [Warning] min_data_in_leaf is set=1, min_child_samples=20 will be ignored. Current value: min_data_in_leaf=1\n"
     ]
    },
    {
     "data": {
      "text/html": [
       "<div>\n",
       "<style scoped>\n",
       "    .dataframe tbody tr th:only-of-type {\n",
       "        vertical-align: middle;\n",
       "    }\n",
       "\n",
       "    .dataframe tbody tr th {\n",
       "        vertical-align: top;\n",
       "    }\n",
       "\n",
       "    .dataframe thead th {\n",
       "        text-align: right;\n",
       "    }\n",
       "</style>\n",
       "<table border=\"1\" class=\"dataframe\">\n",
       "  <thead>\n",
       "    <tr style=\"text-align: right;\">\n",
       "      <th></th>\n",
       "      <th>name</th>\n",
       "      <th>map</th>\n",
       "      <th>ndcg</th>\n",
       "      <th>ndcg_cut_10</th>\n",
       "      <th>map +</th>\n",
       "      <th>map -</th>\n",
       "      <th>map p-value</th>\n",
       "      <th>ndcg +</th>\n",
       "      <th>ndcg -</th>\n",
       "      <th>ndcg p-value</th>\n",
       "      <th>ndcg_cut_10 +</th>\n",
       "      <th>ndcg_cut_10 -</th>\n",
       "      <th>ndcg_cut_10 p-value</th>\n",
       "    </tr>\n",
       "  </thead>\n",
       "  <tbody>\n",
       "    <tr>\n",
       "      <td>0</td>\n",
       "      <td>fastrank</td>\n",
       "      <td>0.760175</td>\n",
       "      <td>0.874831</td>\n",
       "      <td>0.702702</td>\n",
       "      <td>21.0</td>\n",
       "      <td>8.0</td>\n",
       "      <td>0.002130</td>\n",
       "      <td>20.0</td>\n",
       "      <td>10.0</td>\n",
       "      <td>0.011883</td>\n",
       "      <td>16.0</td>\n",
       "      <td>6.0</td>\n",
       "      <td>0.041171</td>\n",
       "    </tr>\n",
       "    <tr>\n",
       "      <td>1</td>\n",
       "      <td>random forest</td>\n",
       "      <td>0.618919</td>\n",
       "      <td>0.831680</td>\n",
       "      <td>0.625635</td>\n",
       "      <td>13.0</td>\n",
       "      <td>17.0</td>\n",
       "      <td>0.239305</td>\n",
       "      <td>14.0</td>\n",
       "      <td>16.0</td>\n",
       "      <td>0.308027</td>\n",
       "      <td>15.0</td>\n",
       "      <td>12.0</td>\n",
       "      <td>0.685354</td>\n",
       "    </tr>\n",
       "    <tr>\n",
       "      <td>2</td>\n",
       "      <td>LambdaMart</td>\n",
       "      <td>0.575566</td>\n",
       "      <td>0.798740</td>\n",
       "      <td>0.570857</td>\n",
       "      <td>9.0</td>\n",
       "      <td>21.0</td>\n",
       "      <td>0.072788</td>\n",
       "      <td>10.0</td>\n",
       "      <td>20.0</td>\n",
       "      <td>0.912978</td>\n",
       "      <td>12.0</td>\n",
       "      <td>16.0</td>\n",
       "      <td>0.205732</td>\n",
       "    </tr>\n",
       "    <tr>\n",
       "      <td>3</td>\n",
       "      <td>bm25</td>\n",
       "      <td>0.679230</td>\n",
       "      <td>0.794925</td>\n",
       "      <td>0.647895</td>\n",
       "      <td>NaN</td>\n",
       "      <td>NaN</td>\n",
       "      <td>NaN</td>\n",
       "      <td>NaN</td>\n",
       "      <td>NaN</td>\n",
       "      <td>NaN</td>\n",
       "      <td>NaN</td>\n",
       "      <td>NaN</td>\n",
       "      <td>NaN</td>\n",
       "    </tr>\n",
       "    <tr>\n",
       "      <td>4</td>\n",
       "      <td>random</td>\n",
       "      <td>0.520123</td>\n",
       "      <td>0.789584</td>\n",
       "      <td>0.560093</td>\n",
       "      <td>9.0</td>\n",
       "      <td>21.0</td>\n",
       "      <td>0.010047</td>\n",
       "      <td>9.0</td>\n",
       "      <td>21.0</td>\n",
       "      <td>0.889580</td>\n",
       "      <td>9.0</td>\n",
       "      <td>18.0</td>\n",
       "      <td>0.120093</td>\n",
       "    </tr>\n",
       "  </tbody>\n",
       "</table>\n",
       "</div>"
      ],
      "text/plain": [
       "            name       map      ndcg  ndcg_cut_10  map +  map -  map p-value  \\\n",
       "0       fastrank  0.760175  0.874831     0.702702   21.0    8.0     0.002130   \n",
       "1  random forest  0.618919  0.831680     0.625635   13.0   17.0     0.239305   \n",
       "2     LambdaMart  0.575566  0.798740     0.570857    9.0   21.0     0.072788   \n",
       "3           bm25  0.679230  0.794925     0.647895    NaN    NaN          NaN   \n",
       "4         random  0.520123  0.789584     0.560093    9.0   21.0     0.010047   \n",
       "\n",
       "   ndcg +  ndcg -  ndcg p-value  ndcg_cut_10 +  ndcg_cut_10 -  \\\n",
       "0    20.0    10.0      0.011883           16.0            6.0   \n",
       "1    14.0    16.0      0.308027           15.0           12.0   \n",
       "2    10.0    20.0      0.912978           12.0           16.0   \n",
       "3     NaN     NaN           NaN            NaN            NaN   \n",
       "4     9.0    21.0      0.889580            9.0           18.0   \n",
       "\n",
       "   ndcg_cut_10 p-value  \n",
       "0             0.041171  \n",
       "1             0.685354  \n",
       "2             0.205732  \n",
       "3                  NaN  \n",
       "4             0.120093  "
      ]
     },
     "execution_count": 31,
     "metadata": {},
     "output_type": "execute_result"
    }
   ],
   "source": [
    "pt.Experiment(\n",
    "    [ca_pipe, rf_pipe, lmart_x_pipe, bm25, random],\n",
    "    test_topics,\n",
    "    relevance,\n",
    "    eval_metrics=[\"map\", \"ndcg\", \"ndcg_cut_10\"],\n",
    "    baseline = 3,\n",
    "    names = [\"fastrank\",\"random forest\",\"LambdaMart\", \"bm25\", \"random\"]\n",
    ")"
   ]
  },
  {
   "cell_type": "markdown",
   "metadata": {},
   "source": [
    "Task 3.4 add more features: xgbooster"
   ]
  },
  {
   "cell_type": "code",
   "execution_count": 32,
   "metadata": {},
   "outputs": [],
   "source": [
    "import xgboost as xgb\n",
    "params = {'objective': 'rank:ndcg', \n",
    "          'learning_rate': 0.2, \n",
    "          'gamma': 0.8, 'min_child_weight': 0.01,\n",
    "          'max_depth': 20,\n",
    "          'random_state': 42\n",
    "         }\n",
    "xgb_1 = xgb.sklearn.XGBRanker(**params)\n",
    "\n",
    "BaseLTR_LM_pipe = bienc_ltr_feats >> pt.ltr.apply_learned_model(xgb_1, form=\"ltr\")\n",
    "BaseLTR_LM_pipe.fit(train_topics, relevance, valid_topics, relevance)"
   ]
  },
  {
   "cell_type": "code",
   "execution_count": 33,
   "metadata": {},
   "outputs": [
    {
     "name": "stderr",
     "output_type": "stream",
     "text": [
      "[Parallel(n_jobs=2)]: Using backend ThreadingBackend with 2 concurrent workers.\n",
      "[Parallel(n_jobs=2)]: Done  46 tasks      | elapsed:    0.0s\n",
      "[Parallel(n_jobs=2)]: Done 196 tasks      | elapsed:    0.1s\n",
      "[Parallel(n_jobs=2)]: Done 400 out of 400 | elapsed:    0.3s finished\n",
      "/Library/Frameworks/Python.framework/Versions/3.7/lib/python3.7/site-packages/lightgbm/sklearn.py:641: UserWarning: Found 'eval_at' in params. Will use it instead of 'eval_at' argument\n",
      "  _log_warning(f\"Found '{alias}' in params. Will use it instead of 'eval_at' argument\")\n",
      "/Library/Frameworks/Python.framework/Versions/3.7/lib/python3.7/site-packages/lightgbm/sklearn.py:641: UserWarning: Found 'ndcg_eval_at' in params. Will use it instead of 'eval_at' argument\n",
      "  _log_warning(f\"Found '{alias}' in params. Will use it instead of 'eval_at' argument\")\n",
      "/Library/Frameworks/Python.framework/Versions/3.7/lib/python3.7/site-packages/lightgbm/sklearn.py:641: UserWarning: Found 'ndcg_at' in params. Will use it instead of 'eval_at' argument\n",
      "  _log_warning(f\"Found '{alias}' in params. Will use it instead of 'eval_at' argument\")\n"
     ]
    },
    {
     "name": "stdout",
     "output_type": "stream",
     "text": [
      "[LightGBM] [Warning] Unknown parameter: silent\n",
      "[LightGBM] [Warning] min_sum_hessian_in_leaf is set=1, min_child_weight=0.001 will be ignored. Current value: min_sum_hessian_in_leaf=1\n",
      "[LightGBM] [Warning] min_data_in_leaf is set=1, min_child_samples=20 will be ignored. Current value: min_data_in_leaf=1\n"
     ]
    },
    {
     "data": {
      "text/html": [
       "<div>\n",
       "<style scoped>\n",
       "    .dataframe tbody tr th:only-of-type {\n",
       "        vertical-align: middle;\n",
       "    }\n",
       "\n",
       "    .dataframe tbody tr th {\n",
       "        vertical-align: top;\n",
       "    }\n",
       "\n",
       "    .dataframe thead th {\n",
       "        text-align: right;\n",
       "    }\n",
       "</style>\n",
       "<table border=\"1\" class=\"dataframe\">\n",
       "  <thead>\n",
       "    <tr style=\"text-align: right;\">\n",
       "      <th></th>\n",
       "      <th>name</th>\n",
       "      <th>map</th>\n",
       "      <th>ndcg</th>\n",
       "      <th>ndcg_cut_10</th>\n",
       "      <th>map +</th>\n",
       "      <th>map -</th>\n",
       "      <th>map p-value</th>\n",
       "      <th>ndcg +</th>\n",
       "      <th>ndcg -</th>\n",
       "      <th>ndcg p-value</th>\n",
       "      <th>ndcg_cut_10 +</th>\n",
       "      <th>ndcg_cut_10 -</th>\n",
       "      <th>ndcg_cut_10 p-value</th>\n",
       "    </tr>\n",
       "  </thead>\n",
       "  <tbody>\n",
       "    <tr>\n",
       "      <td>0</td>\n",
       "      <td>fastrank</td>\n",
       "      <td>0.760175</td>\n",
       "      <td>0.874831</td>\n",
       "      <td>0.702702</td>\n",
       "      <td>21.0</td>\n",
       "      <td>8.0</td>\n",
       "      <td>0.002130</td>\n",
       "      <td>20.0</td>\n",
       "      <td>10.0</td>\n",
       "      <td>0.011883</td>\n",
       "      <td>16.0</td>\n",
       "      <td>6.0</td>\n",
       "      <td>0.041171</td>\n",
       "    </tr>\n",
       "    <tr>\n",
       "      <td>1</td>\n",
       "      <td>random forest</td>\n",
       "      <td>0.618919</td>\n",
       "      <td>0.831680</td>\n",
       "      <td>0.625635</td>\n",
       "      <td>13.0</td>\n",
       "      <td>17.0</td>\n",
       "      <td>0.239305</td>\n",
       "      <td>14.0</td>\n",
       "      <td>16.0</td>\n",
       "      <td>0.308027</td>\n",
       "      <td>15.0</td>\n",
       "      <td>12.0</td>\n",
       "      <td>0.685354</td>\n",
       "    </tr>\n",
       "    <tr>\n",
       "      <td>2</td>\n",
       "      <td>LambdaMart</td>\n",
       "      <td>0.575566</td>\n",
       "      <td>0.798740</td>\n",
       "      <td>0.570857</td>\n",
       "      <td>9.0</td>\n",
       "      <td>21.0</td>\n",
       "      <td>0.072788</td>\n",
       "      <td>10.0</td>\n",
       "      <td>20.0</td>\n",
       "      <td>0.912978</td>\n",
       "      <td>12.0</td>\n",
       "      <td>16.0</td>\n",
       "      <td>0.205732</td>\n",
       "    </tr>\n",
       "    <tr>\n",
       "      <td>3</td>\n",
       "      <td>XGbooster</td>\n",
       "      <td>0.674534</td>\n",
       "      <td>0.832445</td>\n",
       "      <td>0.609715</td>\n",
       "      <td>14.0</td>\n",
       "      <td>16.0</td>\n",
       "      <td>0.899465</td>\n",
       "      <td>13.0</td>\n",
       "      <td>17.0</td>\n",
       "      <td>0.224151</td>\n",
       "      <td>9.0</td>\n",
       "      <td>15.0</td>\n",
       "      <td>0.286790</td>\n",
       "    </tr>\n",
       "    <tr>\n",
       "      <td>4</td>\n",
       "      <td>bm25</td>\n",
       "      <td>0.679230</td>\n",
       "      <td>0.794925</td>\n",
       "      <td>0.647895</td>\n",
       "      <td>NaN</td>\n",
       "      <td>NaN</td>\n",
       "      <td>NaN</td>\n",
       "      <td>NaN</td>\n",
       "      <td>NaN</td>\n",
       "      <td>NaN</td>\n",
       "      <td>NaN</td>\n",
       "      <td>NaN</td>\n",
       "      <td>NaN</td>\n",
       "    </tr>\n",
       "    <tr>\n",
       "      <td>5</td>\n",
       "      <td>random</td>\n",
       "      <td>0.520123</td>\n",
       "      <td>0.789584</td>\n",
       "      <td>0.560093</td>\n",
       "      <td>9.0</td>\n",
       "      <td>21.0</td>\n",
       "      <td>0.010047</td>\n",
       "      <td>9.0</td>\n",
       "      <td>21.0</td>\n",
       "      <td>0.889580</td>\n",
       "      <td>9.0</td>\n",
       "      <td>18.0</td>\n",
       "      <td>0.120093</td>\n",
       "    </tr>\n",
       "  </tbody>\n",
       "</table>\n",
       "</div>"
      ],
      "text/plain": [
       "            name       map      ndcg  ndcg_cut_10  map +  map -  map p-value  \\\n",
       "0       fastrank  0.760175  0.874831     0.702702   21.0    8.0     0.002130   \n",
       "1  random forest  0.618919  0.831680     0.625635   13.0   17.0     0.239305   \n",
       "2     LambdaMart  0.575566  0.798740     0.570857    9.0   21.0     0.072788   \n",
       "3      XGbooster  0.674534  0.832445     0.609715   14.0   16.0     0.899465   \n",
       "4           bm25  0.679230  0.794925     0.647895    NaN    NaN          NaN   \n",
       "5         random  0.520123  0.789584     0.560093    9.0   21.0     0.010047   \n",
       "\n",
       "   ndcg +  ndcg -  ndcg p-value  ndcg_cut_10 +  ndcg_cut_10 -  \\\n",
       "0    20.0    10.0      0.011883           16.0            6.0   \n",
       "1    14.0    16.0      0.308027           15.0           12.0   \n",
       "2    10.0    20.0      0.912978           12.0           16.0   \n",
       "3    13.0    17.0      0.224151            9.0           15.0   \n",
       "4     NaN     NaN           NaN            NaN            NaN   \n",
       "5     9.0    21.0      0.889580            9.0           18.0   \n",
       "\n",
       "   ndcg_cut_10 p-value  \n",
       "0             0.041171  \n",
       "1             0.685354  \n",
       "2             0.205732  \n",
       "3             0.286790  \n",
       "4                  NaN  \n",
       "5             0.120093  "
      ]
     },
     "execution_count": 33,
     "metadata": {},
     "output_type": "execute_result"
    }
   ],
   "source": [
    "pt.Experiment(\n",
    "    [ca_pipe, rf_pipe, lmart_x_pipe, BaseLTR_LM_pipe, bm25, random],\n",
    "    test_topics,\n",
    "    relevance,\n",
    "    eval_metrics=[\"map\", \"ndcg\", \"ndcg_cut_10\"],\n",
    "    baseline = 4,\n",
    "    names = [\"fastrank\",\"random forest\",\"LambdaMart\", \"XGbooster\", \"bm25\", \"random\"]\n",
    ")"
   ]
  },
  {
   "cell_type": "markdown",
   "metadata": {},
   "source": [
    "Task 3.5 fine tune"
   ]
  },
  {
   "cell_type": "code",
   "execution_count": 41,
   "metadata": {},
   "outputs": [
    {
     "data": {
      "image/png": "[encoded data removed]",
      "text/plain": [
       "<Figure size 432x288 with 1 Axes>"
      ]
     },
     "metadata": {
      "needs_background": "light"
     },
     "output_type": "display_data"
    }
   ],
   "source": [
    "pl2 = pt.BatchRetrieve(index, wmodel=\"PL2\", controls={'c' : 1})\n",
    "rtr = pt.GridScan(\n",
    "    pl2,\n",
    "    {pl2 : {'c' : [0.1, 1, 5, 10, 20, 100]}},\n",
    "    train_topics,\n",
    "    relevance,\n",
    "    [\"map\"]\n",
    ")\n",
    "import matplotlib.pyplot as plt\n",
    "\n",
    "plt.plot(rtr[\"tran_0_c\"], rtr[\"map\"])\n",
    "plt.xlabel(\"PL2's c value\")\n",
    "plt.ylabel(\"MAP\")\n",
    "plt.show()"
   ]
  },
  {
   "cell_type": "code",
   "execution_count": 36,
   "metadata": {},
   "outputs": [
    {
     "name": "stdout",
     "output_type": "stream",
     "text": [
      "Best map is 0.343998\n",
      "Best setting is ['BR(BM25) bm25.b=0.4', 'BR(BM25) bm25.k_1=2', 'BR(BM25) bm25.k_3=0.5']\n"
     ]
    }
   ],
   "source": [
    "BM25 = pt.BatchRetrieve(index, wmodel=\"BM25\", controls={\"bm25.b\" : 0.75, \"bm25.k_1\": 0.75, \"bm25.k_3\": 0.75})\n",
    "BM25Tune = pt.GridSearch(\n",
    "    BM25,\n",
    "    {BM25: {\"bm25.b\"  : [0, 0.1, 0.2, 0.3, 0.4, 0.5, 0.6, 0.7, 0.8, 0.9, 1 ],\n",
    "            \"bm25.k_1\": [0.3, 0.6, 0.9, 1.2, 1.4, 1.6, 2],\n",
    "            \"bm25.k_3\": [0.5, 2, 4, 6, 8, 10, 12, 14, 20]\n",
    "    }},\n",
    "    train_topics,\n",
    "    relevance,\n",
    "    \"map\")"
   ]
  },
  {
   "cell_type": "code",
   "execution_count": null,
   "metadata": {},
   "outputs": [],
   "source": [
    "pt.Experiment(\n",
    "    [ca_pipe, rf_pipe, lmart_x_pipe, BaseLTR_LM_pipe, rtr, bm25, random],\n",
    "    test_topics,\n",
    "    relevance,\n",
    "    eval_metrics=[\"map\", \"ndcg\", \"ndcg_cut_10\"],\n",
    "    baseline = 5,\n",
    "    names = [\"fastrank\",\"random forest\",\"LambdaMart\", \"XGbooster\", 'pl2Tune',\"bm25\", \"random\"]\n",
    ")"
   ]
  },
  {
   "cell_type": "markdown",
   "metadata": {},
   "source": [
    "Task 3.5.1 fine tune manually"
   ]
  },
  {
   "cell_type": "code",
   "execution_count": 57,
   "metadata": {},
   "outputs": [],
   "source": [
    "import xgboost as xgb\n",
    "params = {'objective': 'rank:ndcg', \n",
    "          'learning_rate': 0.2, \n",
    "          'gamma': 0.8, 'min_child_weight': 0.01,\n",
    "          'max_depth': 20,\n",
    "          'n_estimators': 200,\n",
    "          'random_state': 42\n",
    "         }\n",
    "xgb_1 = xgb.sklearn.XGBRanker(**params)\n",
    "\n",
    "BaseLTR_LM_pipe = bienc_ltr_feats >> pt.ltr.apply_learned_model(xgb_1, form=\"ltr\")\n",
    "BaseLTR_LM_pipe.fit(train_topics, relevance, valid_topics, relevance)"
   ]
  },
  {
   "cell_type": "code",
   "execution_count": 58,
   "metadata": {},
   "outputs": [
    {
     "name": "stderr",
     "output_type": "stream",
     "text": [
      "[Parallel(n_jobs=2)]: Using backend ThreadingBackend with 2 concurrent workers.\n",
      "[Parallel(n_jobs=2)]: Done  46 tasks      | elapsed:    0.4s\n",
      "[Parallel(n_jobs=2)]: Done 196 tasks      | elapsed:    1.6s\n",
      "[Parallel(n_jobs=2)]: Done 446 tasks      | elapsed:    3.5s\n",
      "[Parallel(n_jobs=2)]: Done 796 tasks      | elapsed:    6.5s\n",
      "[Parallel(n_jobs=2)]: Done 800 out of 800 | elapsed:    6.5s finished\n"
     ]
    }
   ],
   "source": [
    "rf = RandomForestRegressor(n_estimators=800, verbose=1, random_state=SEED, n_jobs=2, max_features=3)\n",
    "rf_pipe = bienc_ltr_feats >> pt.ltr.apply_learned_model(rf)\n",
    "rf_pipe.fit(train_topics, relevance)"
   ]
  },
  {
   "cell_type": "code",
   "execution_count": 59,
   "metadata": {},
   "outputs": [
    {
     "name": "stderr",
     "output_type": "stream",
     "text": [
      "[Parallel(n_jobs=2)]: Using backend ThreadingBackend with 2 concurrent workers.\n",
      "[Parallel(n_jobs=2)]: Done  46 tasks      | elapsed:    0.0s\n",
      "[Parallel(n_jobs=2)]: Done 196 tasks      | elapsed:    0.1s\n",
      "[Parallel(n_jobs=2)]: Done 446 tasks      | elapsed:    0.3s\n",
      "[Parallel(n_jobs=2)]: Done 796 tasks      | elapsed:    0.5s\n",
      "[Parallel(n_jobs=2)]: Done 800 out of 800 | elapsed:    0.5s finished\n",
      "/Library/Frameworks/Python.framework/Versions/3.7/lib/python3.7/site-packages/lightgbm/sklearn.py:641: UserWarning: Found 'eval_at' in params. Will use it instead of 'eval_at' argument\n",
      "  _log_warning(f\"Found '{alias}' in params. Will use it instead of 'eval_at' argument\")\n",
      "/Library/Frameworks/Python.framework/Versions/3.7/lib/python3.7/site-packages/lightgbm/sklearn.py:641: UserWarning: Found 'ndcg_eval_at' in params. Will use it instead of 'eval_at' argument\n",
      "  _log_warning(f\"Found '{alias}' in params. Will use it instead of 'eval_at' argument\")\n",
      "/Library/Frameworks/Python.framework/Versions/3.7/lib/python3.7/site-packages/lightgbm/sklearn.py:641: UserWarning: Found 'ndcg_at' in params. Will use it instead of 'eval_at' argument\n",
      "  _log_warning(f\"Found '{alias}' in params. Will use it instead of 'eval_at' argument\")\n"
     ]
    },
    {
     "name": "stdout",
     "output_type": "stream",
     "text": [
      "[LightGBM] [Warning] Unknown parameter: silent\n",
      "[LightGBM] [Warning] min_sum_hessian_in_leaf is set=1, min_child_weight=0.001 will be ignored. Current value: min_sum_hessian_in_leaf=1\n",
      "[LightGBM] [Warning] min_data_in_leaf is set=1, min_child_samples=20 will be ignored. Current value: min_data_in_leaf=1\n"
     ]
    },
    {
     "data": {
      "text/html": [
       "<div>\n",
       "<style scoped>\n",
       "    .dataframe tbody tr th:only-of-type {\n",
       "        vertical-align: middle;\n",
       "    }\n",
       "\n",
       "    .dataframe tbody tr th {\n",
       "        vertical-align: top;\n",
       "    }\n",
       "\n",
       "    .dataframe thead th {\n",
       "        text-align: right;\n",
       "    }\n",
       "</style>\n",
       "<table border=\"1\" class=\"dataframe\">\n",
       "  <thead>\n",
       "    <tr style=\"text-align: right;\">\n",
       "      <th></th>\n",
       "      <th>name</th>\n",
       "      <th>map</th>\n",
       "      <th>ndcg</th>\n",
       "      <th>ndcg_cut_10</th>\n",
       "      <th>map +</th>\n",
       "      <th>map -</th>\n",
       "      <th>map p-value</th>\n",
       "      <th>ndcg +</th>\n",
       "      <th>ndcg -</th>\n",
       "      <th>ndcg p-value</th>\n",
       "      <th>ndcg_cut_10 +</th>\n",
       "      <th>ndcg_cut_10 -</th>\n",
       "      <th>ndcg_cut_10 p-value</th>\n",
       "    </tr>\n",
       "  </thead>\n",
       "  <tbody>\n",
       "    <tr>\n",
       "      <td>0</td>\n",
       "      <td>fastrank</td>\n",
       "      <td>0.743121</td>\n",
       "      <td>0.881126</td>\n",
       "      <td>0.725310</td>\n",
       "      <td>16.0</td>\n",
       "      <td>14.0</td>\n",
       "      <td>0.079337</td>\n",
       "      <td>15.0</td>\n",
       "      <td>15.0</td>\n",
       "      <td>0.017476</td>\n",
       "      <td>15.0</td>\n",
       "      <td>8.0</td>\n",
       "      <td>0.032863</td>\n",
       "    </tr>\n",
       "    <tr>\n",
       "      <td>1</td>\n",
       "      <td>random forest</td>\n",
       "      <td>0.640503</td>\n",
       "      <td>0.839123</td>\n",
       "      <td>0.656864</td>\n",
       "      <td>13.0</td>\n",
       "      <td>17.0</td>\n",
       "      <td>0.443354</td>\n",
       "      <td>13.0</td>\n",
       "      <td>17.0</td>\n",
       "      <td>0.226888</td>\n",
       "      <td>14.0</td>\n",
       "      <td>11.0</td>\n",
       "      <td>0.827763</td>\n",
       "    </tr>\n",
       "    <tr>\n",
       "      <td>2</td>\n",
       "      <td>LambdaMart</td>\n",
       "      <td>0.603491</td>\n",
       "      <td>0.812986</td>\n",
       "      <td>0.577073</td>\n",
       "      <td>12.0</td>\n",
       "      <td>18.0</td>\n",
       "      <td>0.173733</td>\n",
       "      <td>8.0</td>\n",
       "      <td>22.0</td>\n",
       "      <td>0.618604</td>\n",
       "      <td>10.0</td>\n",
       "      <td>16.0</td>\n",
       "      <td>0.198268</td>\n",
       "    </tr>\n",
       "    <tr>\n",
       "      <td>3</td>\n",
       "      <td>XGbooster</td>\n",
       "      <td>0.643973</td>\n",
       "      <td>0.818376</td>\n",
       "      <td>0.582591</td>\n",
       "      <td>15.0</td>\n",
       "      <td>15.0</td>\n",
       "      <td>0.377530</td>\n",
       "      <td>12.0</td>\n",
       "      <td>18.0</td>\n",
       "      <td>0.473640</td>\n",
       "      <td>8.0</td>\n",
       "      <td>17.0</td>\n",
       "      <td>0.142338</td>\n",
       "    </tr>\n",
       "    <tr>\n",
       "      <td>4</td>\n",
       "      <td>bm25</td>\n",
       "      <td>0.679230</td>\n",
       "      <td>0.794925</td>\n",
       "      <td>0.647895</td>\n",
       "      <td>NaN</td>\n",
       "      <td>NaN</td>\n",
       "      <td>NaN</td>\n",
       "      <td>NaN</td>\n",
       "      <td>NaN</td>\n",
       "      <td>NaN</td>\n",
       "      <td>NaN</td>\n",
       "      <td>NaN</td>\n",
       "      <td>NaN</td>\n",
       "    </tr>\n",
       "    <tr>\n",
       "      <td>5</td>\n",
       "      <td>random</td>\n",
       "      <td>0.520123</td>\n",
       "      <td>0.789584</td>\n",
       "      <td>0.560093</td>\n",
       "      <td>9.0</td>\n",
       "      <td>21.0</td>\n",
       "      <td>0.010047</td>\n",
       "      <td>9.0</td>\n",
       "      <td>21.0</td>\n",
       "      <td>0.889580</td>\n",
       "      <td>9.0</td>\n",
       "      <td>18.0</td>\n",
       "      <td>0.120093</td>\n",
       "    </tr>\n",
       "  </tbody>\n",
       "</table>\n",
       "</div>"
      ],
      "text/plain": [
       "            name       map      ndcg  ndcg_cut_10  map +  map -  map p-value  \\\n",
       "0       fastrank  0.743121  0.881126     0.725310   16.0   14.0     0.079337   \n",
       "1  random forest  0.640503  0.839123     0.656864   13.0   17.0     0.443354   \n",
       "2     LambdaMart  0.603491  0.812986     0.577073   12.0   18.0     0.173733   \n",
       "3      XGbooster  0.643973  0.818376     0.582591   15.0   15.0     0.377530   \n",
       "4           bm25  0.679230  0.794925     0.647895    NaN    NaN          NaN   \n",
       "5         random  0.520123  0.789584     0.560093    9.0   21.0     0.010047   \n",
       "\n",
       "   ndcg +  ndcg -  ndcg p-value  ndcg_cut_10 +  ndcg_cut_10 -  \\\n",
       "0    15.0    15.0      0.017476           15.0            8.0   \n",
       "1    13.0    17.0      0.226888           14.0           11.0   \n",
       "2     8.0    22.0      0.618604           10.0           16.0   \n",
       "3    12.0    18.0      0.473640            8.0           17.0   \n",
       "4     NaN     NaN           NaN            NaN            NaN   \n",
       "5     9.0    21.0      0.889580            9.0           18.0   \n",
       "\n",
       "   ndcg_cut_10 p-value  \n",
       "0             0.032863  \n",
       "1             0.827763  \n",
       "2             0.198268  \n",
       "3             0.142338  \n",
       "4                  NaN  \n",
       "5             0.120093  "
      ]
     },
     "execution_count": 59,
     "metadata": {},
     "output_type": "execute_result"
    }
   ],
   "source": [
    "pt.Experiment(\n",
    "    [ca_pipe, rf_pipe, lmart_x_pipe, BaseLTR_LM_pipe, bm25, random],\n",
    "    test_topics,\n",
    "    relevance,\n",
    "    eval_metrics=[\"map\", \"ndcg\", \"ndcg_cut_10\"],\n",
    "    baseline = 4,\n",
    "    names = [\"fastrank\",\"random forest\",\"LambdaMart\", \"XGbooster\", \"bm25\",\"random\"]\n",
    ")"
   ]
  },
  {
   "cell_type": "markdown",
   "metadata": {},
   "source": [
    "Task 3.6: Add cosine-similarity of bi encoder as features"
   ]
  },
  {
   "cell_type": "code",
   "execution_count": 47,
   "metadata": {},
   "outputs": [],
   "source": [
    "annotation1 = pd.read_csv('qidDocPair.csv').drop(['Unnamed: 0'], axis = 1)"
   ]
  },
  {
   "cell_type": "markdown",
   "metadata": {},
   "source": [
    "Task 3.6.1: process of embedding, no need to run"
   ]
  },
  {
   "cell_type": "code",
   "execution_count": null,
   "metadata": {},
   "outputs": [],
   "source": [
    "embedder = SentenceTransformer('all-MiniLM-L6-v2')\n",
    "sim_list = []\n",
    "\n",
    "cor = annotation1.iloc[0:3937,1]\n",
    "arrs = cor.values\n",
    "corpus = arrs\n",
    "corpus_embeddings = embedder.encode(corpus, convert_to_tensor=True)\n",
    "\n",
    "for i in range(60):\n",
    "    query = annotation1.iloc[(3937*(i+1)-1),3]\n",
    "\n",
    "    query_embedding = embedder.encode(query, convert_to_tensor=True)\n",
    "    cos_scores = util.cos_sim(query_embedding, corpus_embeddings)[0]\n",
    "    for j in range(3937):\n",
    "        sim_list.append(float(cos_scores[j]))"
   ]
  },
  {
   "cell_type": "code",
   "execution_count": null,
   "metadata": {},
   "outputs": [],
   "source": [
    "annotation1['similarity'] = sim_list\n",
    "annotation1.to_csv(\"annotation1.csv\")"
   ]
  },
  {
   "cell_type": "markdown",
   "metadata": {},
   "source": [
    "Task 3.6.2: add the similarity to features and replace the previous cos-sim score"
   ]
  },
  {
   "cell_type": "code",
   "execution_count": 48,
   "metadata": {},
   "outputs": [],
   "source": [
    "relevance_test = pd.read_csv('annotation1.csv').drop(['Unnamed: 0'], axis = 1)\n",
    "relevance_test = relevance_test[['qid','docno','similarity']]\n",
    "relevance_test['qid'] = relevance_test['qid'].astype(str)\n",
    "relevance_test['docno'] = relevance_test['docno'].astype(str)"
   ]
  },
  {
   "cell_type": "code",
   "execution_count": 60,
   "metadata": {},
   "outputs": [],
   "source": [
    "coordinate = pt.BatchRetrieve(index, wmodel = 'CoordinateMatch')\n",
    "qid = list(relevance_test['qid'])\n",
    "docno = list(relevance_test['docno'])\n",
    "dict_key = zip(qid,docno)\n",
    "dict_key\n",
    "sim_dict = dict(zip(dict_key,relevance_test['similarity']))\n",
    "bienc_ltr_feats_1 = pt.BatchRetrieve(index) >>(\n",
    "    tfidf\n",
    "    **\n",
    "    pl2\n",
    "    **\n",
    "    coordinate\n",
    "    **\n",
    "    pt.apply.doc_score(lambda x:sim_dict[tuple([x.qid,x.docno])])\n",
    ")"
   ]
  },
  {
   "cell_type": "code",
   "execution_count": 61,
   "metadata": {},
   "outputs": [
    {
     "name": "stderr",
     "output_type": "stream",
     "text": [
      "[Parallel(n_jobs=2)]: Using backend ThreadingBackend with 2 concurrent workers.\n",
      "[Parallel(n_jobs=2)]: Done  46 tasks      | elapsed:    0.5s\n",
      "[Parallel(n_jobs=2)]: Done 196 tasks      | elapsed:    2.0s\n",
      "[Parallel(n_jobs=2)]: Done 400 out of 400 | elapsed:    4.1s finished\n"
     ]
    }
   ],
   "source": [
    "rf = RandomForestRegressor(n_estimators=400, verbose=1, random_state=SEED, n_jobs=2)\n",
    "rf_pipe = bienc_ltr_feats_1 >> pt.ltr.apply_learned_model(rf)\n",
    "rf_pipe.fit(train_topics, relevance)"
   ]
  },
  {
   "cell_type": "code",
   "execution_count": 62,
   "metadata": {},
   "outputs": [],
   "source": [
    "train_request = fastrank.TrainRequest.coordinate_ascent()\n",
    "params = train_request.params\n",
    "params.init_random = True\n",
    "params.normalize = True\n",
    "params.seed = 1234567\n",
    "ca_pipe = bienc_ltr_feats_1 >> pt.ltr.apply_learned_model(train_request, form='fastrank')\n",
    "ca_pipe.fit(train_topics, relevance)"
   ]
  },
  {
   "cell_type": "code",
   "execution_count": 63,
   "metadata": {},
   "outputs": [
    {
     "name": "stdout",
     "output_type": "stream",
     "text": [
      "[LightGBM] [Warning] Unknown parameter: silent\n",
      "[LightGBM] [Warning] early_stopping_round is set=5, early_stopping_rounds=5 will be ignored. Current value: early_stopping_round=5\n",
      "[LightGBM] [Warning] min_data_in_leaf is set=1, min_child_samples=20 will be ignored. Current value: min_data_in_leaf=1\n",
      "[LightGBM] [Warning] min_sum_hessian_in_leaf is set=1, min_child_weight=0.001 will be ignored. Current value: min_sum_hessian_in_leaf=1\n",
      "[LightGBM] [Warning] Unknown parameter: silent\n",
      "[LightGBM] [Warning] min_data_in_leaf is set=1, min_child_samples=20 will be ignored. Current value: min_data_in_leaf=1\n",
      "[LightGBM] [Warning] min_sum_hessian_in_leaf is set=1, min_child_weight=0.001 will be ignored. Current value: min_sum_hessian_in_leaf=1\n",
      "[LightGBM] [Warning] Auto-choosing row-wise multi-threading, the overhead of testing was 0.000208 seconds.\n",
      "You can set `force_row_wise=true` to remove the overhead.\n",
      "And if memory is not enough, you can set `force_col_wise=true`.\n",
      "[LightGBM] [Info] Total Bins 770\n",
      "[LightGBM] [Info] Number of data points in the train set: 21756, number of used features: 4\n",
      "[LightGBM] [Warning] Unknown parameter: silent\n",
      "[LightGBM] [Warning] early_stopping_round is set=5, early_stopping_rounds=5 will be ignored. Current value: early_stopping_round=5\n",
      "[LightGBM] [Warning] min_data_in_leaf is set=1, min_child_samples=20 will be ignored. Current value: min_data_in_leaf=1\n",
      "[LightGBM] [Warning] min_sum_hessian_in_leaf is set=1, min_child_weight=0.001 will be ignored. Current value: min_sum_hessian_in_leaf=1\n",
      "Training until validation scores don't improve for 5 rounds\n",
      "Early stopping, best iteration is:\n",
      "[5]\tvalid_0's ndcg@10: 0.635571\n"
     ]
    },
    {
     "name": "stderr",
     "output_type": "stream",
     "text": [
      "/Library/Frameworks/Python.framework/Versions/3.7/lib/python3.7/site-packages/lightgbm/sklearn.py:641: UserWarning: Found 'eval_at' in params. Will use it instead of 'eval_at' argument\n",
      "  _log_warning(f\"Found '{alias}' in params. Will use it instead of 'eval_at' argument\")\n",
      "/Library/Frameworks/Python.framework/Versions/3.7/lib/python3.7/site-packages/lightgbm/sklearn.py:641: UserWarning: Found 'ndcg_eval_at' in params. Will use it instead of 'eval_at' argument\n",
      "  _log_warning(f\"Found '{alias}' in params. Will use it instead of 'eval_at' argument\")\n",
      "/Library/Frameworks/Python.framework/Versions/3.7/lib/python3.7/site-packages/lightgbm/sklearn.py:641: UserWarning: Found 'ndcg_at' in params. Will use it instead of 'eval_at' argument\n",
      "  _log_warning(f\"Found '{alias}' in params. Will use it instead of 'eval_at' argument\")\n",
      "/Library/Frameworks/Python.framework/Versions/3.7/lib/python3.7/site-packages/lightgbm/engine.py:143: UserWarning: Found `num_iterations` in params. Will use it instead of argument\n",
      "  _log_warning(f\"Found `{alias}` in params. Will use it instead of argument\")\n"
     ]
    }
   ],
   "source": [
    "lmart_l = lgb.LGBMRanker(\n",
    "    task=\"train\",\n",
    "    silent=False,\n",
    "    min_data_in_leaf=1,\n",
    "    min_sum_hessian_in_leaf=1,\n",
    "    max_bin=255,\n",
    "    num_leaves=31,\n",
    "    objective=\"lambdarank\",\n",
    "    metric=\"ndcg\",\n",
    "    ndcg_eval_at=[10],\n",
    "    ndcg_at=[10],\n",
    "    eval_at=[10],\n",
    "    learning_rate= .1,\n",
    "    importance_type=\"gain\",\n",
    "    num_iterations=100,\n",
    "    early_stopping_rounds=5\n",
    ")\n",
    "lmart_x_pipe = bienc_ltr_feats_1 >> pt.ltr.apply_learned_model(lmart_l, form=\"ltr\", fit_kwargs={'eval_at':[10]})\n",
    "\n",
    "lmart_x_pipe.fit(train_topics, relevance, valid_topics, relevance)\n",
    "\n"
   ]
  },
  {
   "cell_type": "code",
   "execution_count": 64,
   "metadata": {},
   "outputs": [
    {
     "name": "stderr",
     "output_type": "stream",
     "text": [
      "[Parallel(n_jobs=2)]: Using backend ThreadingBackend with 2 concurrent workers.\n",
      "[Parallel(n_jobs=2)]: Done  46 tasks      | elapsed:    0.0s\n",
      "[Parallel(n_jobs=2)]: Done 196 tasks      | elapsed:    0.1s\n",
      "[Parallel(n_jobs=2)]: Done 400 out of 400 | elapsed:    0.2s finished\n",
      "/Library/Frameworks/Python.framework/Versions/3.7/lib/python3.7/site-packages/lightgbm/sklearn.py:641: UserWarning: Found 'eval_at' in params. Will use it instead of 'eval_at' argument\n",
      "  _log_warning(f\"Found '{alias}' in params. Will use it instead of 'eval_at' argument\")\n",
      "/Library/Frameworks/Python.framework/Versions/3.7/lib/python3.7/site-packages/lightgbm/sklearn.py:641: UserWarning: Found 'ndcg_eval_at' in params. Will use it instead of 'eval_at' argument\n",
      "  _log_warning(f\"Found '{alias}' in params. Will use it instead of 'eval_at' argument\")\n",
      "/Library/Frameworks/Python.framework/Versions/3.7/lib/python3.7/site-packages/lightgbm/sklearn.py:641: UserWarning: Found 'ndcg_at' in params. Will use it instead of 'eval_at' argument\n",
      "  _log_warning(f\"Found '{alias}' in params. Will use it instead of 'eval_at' argument\")\n"
     ]
    },
    {
     "name": "stdout",
     "output_type": "stream",
     "text": [
      "[LightGBM] [Warning] Unknown parameter: silent\n",
      "[LightGBM] [Warning] min_sum_hessian_in_leaf is set=1, min_child_weight=0.001 will be ignored. Current value: min_sum_hessian_in_leaf=1\n",
      "[LightGBM] [Warning] min_data_in_leaf is set=1, min_child_samples=20 will be ignored. Current value: min_data_in_leaf=1\n"
     ]
    },
    {
     "data": {
      "text/html": [
       "<div>\n",
       "<style scoped>\n",
       "    .dataframe tbody tr th:only-of-type {\n",
       "        vertical-align: middle;\n",
       "    }\n",
       "\n",
       "    .dataframe tbody tr th {\n",
       "        vertical-align: top;\n",
       "    }\n",
       "\n",
       "    .dataframe thead th {\n",
       "        text-align: right;\n",
       "    }\n",
       "</style>\n",
       "<table border=\"1\" class=\"dataframe\">\n",
       "  <thead>\n",
       "    <tr style=\"text-align: right;\">\n",
       "      <th></th>\n",
       "      <th>name</th>\n",
       "      <th>map</th>\n",
       "      <th>ndcg</th>\n",
       "      <th>ndcg_cut_10</th>\n",
       "      <th>map +</th>\n",
       "      <th>map -</th>\n",
       "      <th>map p-value</th>\n",
       "      <th>ndcg +</th>\n",
       "      <th>ndcg -</th>\n",
       "      <th>ndcg p-value</th>\n",
       "      <th>ndcg_cut_10 +</th>\n",
       "      <th>ndcg_cut_10 -</th>\n",
       "      <th>ndcg_cut_10 p-value</th>\n",
       "    </tr>\n",
       "  </thead>\n",
       "  <tbody>\n",
       "    <tr>\n",
       "      <td>0</td>\n",
       "      <td>fastrank</td>\n",
       "      <td>0.743121</td>\n",
       "      <td>0.881126</td>\n",
       "      <td>0.725310</td>\n",
       "      <td>16.0</td>\n",
       "      <td>14.0</td>\n",
       "      <td>0.079337</td>\n",
       "      <td>15.0</td>\n",
       "      <td>15.0</td>\n",
       "      <td>0.017476</td>\n",
       "      <td>15.0</td>\n",
       "      <td>8.0</td>\n",
       "      <td>0.032863</td>\n",
       "    </tr>\n",
       "    <tr>\n",
       "      <td>1</td>\n",
       "      <td>random forest</td>\n",
       "      <td>0.621176</td>\n",
       "      <td>0.831134</td>\n",
       "      <td>0.638976</td>\n",
       "      <td>13.0</td>\n",
       "      <td>17.0</td>\n",
       "      <td>0.262489</td>\n",
       "      <td>13.0</td>\n",
       "      <td>17.0</td>\n",
       "      <td>0.315736</td>\n",
       "      <td>15.0</td>\n",
       "      <td>11.0</td>\n",
       "      <td>0.819975</td>\n",
       "    </tr>\n",
       "    <tr>\n",
       "      <td>2</td>\n",
       "      <td>LambdaMart</td>\n",
       "      <td>0.585242</td>\n",
       "      <td>0.801764</td>\n",
       "      <td>0.574654</td>\n",
       "      <td>12.0</td>\n",
       "      <td>18.0</td>\n",
       "      <td>0.123269</td>\n",
       "      <td>11.0</td>\n",
       "      <td>19.0</td>\n",
       "      <td>0.851467</td>\n",
       "      <td>12.0</td>\n",
       "      <td>14.0</td>\n",
       "      <td>0.176155</td>\n",
       "    </tr>\n",
       "    <tr>\n",
       "      <td>3</td>\n",
       "      <td>bm25</td>\n",
       "      <td>0.679230</td>\n",
       "      <td>0.794925</td>\n",
       "      <td>0.647895</td>\n",
       "      <td>NaN</td>\n",
       "      <td>NaN</td>\n",
       "      <td>NaN</td>\n",
       "      <td>NaN</td>\n",
       "      <td>NaN</td>\n",
       "      <td>NaN</td>\n",
       "      <td>NaN</td>\n",
       "      <td>NaN</td>\n",
       "      <td>NaN</td>\n",
       "    </tr>\n",
       "    <tr>\n",
       "      <td>4</td>\n",
       "      <td>random</td>\n",
       "      <td>0.520123</td>\n",
       "      <td>0.789584</td>\n",
       "      <td>0.560093</td>\n",
       "      <td>9.0</td>\n",
       "      <td>21.0</td>\n",
       "      <td>0.010047</td>\n",
       "      <td>9.0</td>\n",
       "      <td>21.0</td>\n",
       "      <td>0.889580</td>\n",
       "      <td>9.0</td>\n",
       "      <td>18.0</td>\n",
       "      <td>0.120093</td>\n",
       "    </tr>\n",
       "  </tbody>\n",
       "</table>\n",
       "</div>"
      ],
      "text/plain": [
       "            name       map      ndcg  ndcg_cut_10  map +  map -  map p-value  \\\n",
       "0       fastrank  0.743121  0.881126     0.725310   16.0   14.0     0.079337   \n",
       "1  random forest  0.621176  0.831134     0.638976   13.0   17.0     0.262489   \n",
       "2     LambdaMart  0.585242  0.801764     0.574654   12.0   18.0     0.123269   \n",
       "3           bm25  0.679230  0.794925     0.647895    NaN    NaN          NaN   \n",
       "4         random  0.520123  0.789584     0.560093    9.0   21.0     0.010047   \n",
       "\n",
       "   ndcg +  ndcg -  ndcg p-value  ndcg_cut_10 +  ndcg_cut_10 -  \\\n",
       "0    15.0    15.0      0.017476           15.0            8.0   \n",
       "1    13.0    17.0      0.315736           15.0           11.0   \n",
       "2    11.0    19.0      0.851467           12.0           14.0   \n",
       "3     NaN     NaN           NaN            NaN            NaN   \n",
       "4     9.0    21.0      0.889580            9.0           18.0   \n",
       "\n",
       "   ndcg_cut_10 p-value  \n",
       "0             0.032863  \n",
       "1             0.819975  \n",
       "2             0.176155  \n",
       "3                  NaN  \n",
       "4             0.120093  "
      ]
     },
     "execution_count": 64,
     "metadata": {},
     "output_type": "execute_result"
    }
   ],
   "source": [
    "pt.Experiment(\n",
    "    [ca_pipe, rf_pipe, lmart_x_pipe, bm25, random],\n",
    "    test_topics,\n",
    "    relevance,\n",
    "    baseline = 3,\n",
    "    eval_metrics=[\"map\", \"ndcg\", \"ndcg_cut_10\"],\n",
    "    names = [\"fastrank\",\"random forest\",\"LambdaMart\", \"bm25\", \"random\"]\n",
    ")"
   ]
  },
  {
   "cell_type": "markdown",
   "metadata": {},
   "source": [
    "Task 3.6.3: Add both cross encoder sim and the biencoder sim "
   ]
  },
  {
   "cell_type": "code",
   "execution_count": 439,
   "metadata": {},
   "outputs": [],
   "source": [
    "bienc_ltr_feats_2 = pt.BatchRetrieve(index) >>(\n",
    "    tfidf\n",
    "    **\n",
    "    pl2\n",
    "    **\n",
    "    coordinate\n",
    "    **\n",
    "    pt.apply.doc_score(lambda x:sim_dict[tuple([x.qid,x.docno])])\n",
    "    **\n",
    "    pt.apply.doc_score(lambda row: dict3[tuple([row.qid, row.docno])])\n",
    ")"
   ]
  },
  {
   "cell_type": "code",
   "execution_count": 440,
   "metadata": {},
   "outputs": [
    {
     "name": "stderr",
     "output_type": "stream",
     "text": [
      "[Parallel(n_jobs=2)]: Using backend ThreadingBackend with 2 concurrent workers.\n",
      "[Parallel(n_jobs=2)]: Done  46 tasks      | elapsed:    0.8s\n",
      "[Parallel(n_jobs=2)]: Done 196 tasks      | elapsed:    3.4s\n",
      "[Parallel(n_jobs=2)]: Done 400 out of 400 | elapsed:    6.8s finished\n"
     ]
    }
   ],
   "source": [
    "rf = RandomForestRegressor(n_estimators=400, verbose=1, random_state=SEED, n_jobs=2)\n",
    "rf_pipe = bienc_ltr_feats_2 >> pt.ltr.apply_learned_model(rf)\n",
    "rf_pipe.fit(train_topics, relevance)"
   ]
  },
  {
   "cell_type": "code",
   "execution_count": 441,
   "metadata": {},
   "outputs": [],
   "source": [
    "train_request = fastrank.TrainRequest.coordinate_ascent()\n",
    "params = train_request.params\n",
    "params.init_random = True\n",
    "params.normalize = True\n",
    "params.seed = 1234567\n",
    "ca_pipe = bienc_ltr_feats_2 >> pt.ltr.apply_learned_model(train_request, form='fastrank')\n",
    "ca_pipe.fit(train_topics, relevance)"
   ]
  },
  {
   "cell_type": "code",
   "execution_count": 442,
   "metadata": {},
   "outputs": [
    {
     "name": "stdout",
     "output_type": "stream",
     "text": [
      "[LightGBM] [Warning] Unknown parameter: silent\n",
      "[LightGBM] [Warning] early_stopping_round is set=5, early_stopping_rounds=5 will be ignored. Current value: early_stopping_round=5\n",
      "[LightGBM] [Warning] min_data_in_leaf is set=1, min_child_samples=20 will be ignored. Current value: min_data_in_leaf=1\n",
      "[LightGBM] [Warning] min_sum_hessian_in_leaf is set=1, min_child_weight=0.001 will be ignored. Current value: min_sum_hessian_in_leaf=1\n",
      "[LightGBM] [Warning] Unknown parameter: silent\n",
      "[LightGBM] [Warning] min_data_in_leaf is set=1, min_child_samples=20 will be ignored. Current value: min_data_in_leaf=1\n",
      "[LightGBM] [Warning] min_sum_hessian_in_leaf is set=1, min_child_weight=0.001 will be ignored. Current value: min_sum_hessian_in_leaf=1\n",
      "[LightGBM] [Warning] Auto-choosing row-wise multi-threading, the overhead of testing was 0.000541 seconds.\n",
      "You can set `force_row_wise=true` to remove the overhead.\n",
      "And if memory is not enough, you can set `force_col_wise=true`.\n",
      "[LightGBM] [Info] Total Bins 1025\n",
      "[LightGBM] [Info] Number of data points in the train set: 32508, number of used features: 5\n",
      "[LightGBM] [Warning] Unknown parameter: silent\n",
      "[LightGBM] [Warning] early_stopping_round is set=5, early_stopping_rounds=5 will be ignored. Current value: early_stopping_round=5\n",
      "[LightGBM] [Warning] min_data_in_leaf is set=1, min_child_samples=20 will be ignored. Current value: min_data_in_leaf=1\n",
      "[LightGBM] [Warning] min_sum_hessian_in_leaf is set=1, min_child_weight=0.001 will be ignored. Current value: min_sum_hessian_in_leaf=1\n",
      "Training until validation scores don't improve for 5 rounds\n",
      "Early stopping, best iteration is:\n",
      "[4]\tvalid_0's ndcg@10: 0.634919\n"
     ]
    },
    {
     "name": "stderr",
     "output_type": "stream",
     "text": [
      "/Library/Frameworks/Python.framework/Versions/3.7/lib/python3.7/site-packages/lightgbm/sklearn.py:641: UserWarning: Found 'eval_at' in params. Will use it instead of 'eval_at' argument\n",
      "  _log_warning(f\"Found '{alias}' in params. Will use it instead of 'eval_at' argument\")\n",
      "/Library/Frameworks/Python.framework/Versions/3.7/lib/python3.7/site-packages/lightgbm/sklearn.py:641: UserWarning: Found 'ndcg_at' in params. Will use it instead of 'eval_at' argument\n",
      "  _log_warning(f\"Found '{alias}' in params. Will use it instead of 'eval_at' argument\")\n",
      "/Library/Frameworks/Python.framework/Versions/3.7/lib/python3.7/site-packages/lightgbm/sklearn.py:641: UserWarning: Found 'ndcg_eval_at' in params. Will use it instead of 'eval_at' argument\n",
      "  _log_warning(f\"Found '{alias}' in params. Will use it instead of 'eval_at' argument\")\n",
      "/Library/Frameworks/Python.framework/Versions/3.7/lib/python3.7/site-packages/lightgbm/engine.py:143: UserWarning: Found `num_iterations` in params. Will use it instead of argument\n",
      "  _log_warning(f\"Found `{alias}` in params. Will use it instead of argument\")\n"
     ]
    }
   ],
   "source": [
    "lmart_l = lgb.LGBMRanker(\n",
    "    task=\"train\",\n",
    "    silent=False,\n",
    "    min_data_in_leaf=1,\n",
    "    min_sum_hessian_in_leaf=1,\n",
    "    max_bin=255,\n",
    "    num_leaves=31,\n",
    "    objective=\"lambdarank\",\n",
    "    metric=\"ndcg\",\n",
    "    ndcg_eval_at=[10],\n",
    "    ndcg_at=[10],\n",
    "    eval_at=[10],\n",
    "    learning_rate= .1,\n",
    "    importance_type=\"gain\",\n",
    "    num_iterations=100,\n",
    "    early_stopping_rounds=5\n",
    ")\n",
    "lmart_x_pipe = bienc_ltr_feats_2 >> pt.ltr.apply_learned_model(lmart_l, form=\"ltr\", fit_kwargs={'eval_at':[10]})\n",
    "\n",
    "lmart_x_pipe.fit(train_topics, relevance, valid_topics, relevance)\n",
    "\n"
   ]
  },
  {
   "cell_type": "code",
   "execution_count": 65,
   "metadata": {},
   "outputs": [
    {
     "name": "stderr",
     "output_type": "stream",
     "text": [
      "[Parallel(n_jobs=2)]: Using backend ThreadingBackend with 2 concurrent workers.\n",
      "[Parallel(n_jobs=2)]: Done  46 tasks      | elapsed:    0.0s\n",
      "[Parallel(n_jobs=2)]: Done 196 tasks      | elapsed:    0.1s\n",
      "[Parallel(n_jobs=2)]: Done 400 out of 400 | elapsed:    0.3s finished\n",
      "/Library/Frameworks/Python.framework/Versions/3.7/lib/python3.7/site-packages/lightgbm/sklearn.py:641: UserWarning: Found 'eval_at' in params. Will use it instead of 'eval_at' argument\n",
      "  _log_warning(f\"Found '{alias}' in params. Will use it instead of 'eval_at' argument\")\n",
      "/Library/Frameworks/Python.framework/Versions/3.7/lib/python3.7/site-packages/lightgbm/sklearn.py:641: UserWarning: Found 'ndcg_eval_at' in params. Will use it instead of 'eval_at' argument\n",
      "  _log_warning(f\"Found '{alias}' in params. Will use it instead of 'eval_at' argument\")\n",
      "/Library/Frameworks/Python.framework/Versions/3.7/lib/python3.7/site-packages/lightgbm/sklearn.py:641: UserWarning: Found 'ndcg_at' in params. Will use it instead of 'eval_at' argument\n",
      "  _log_warning(f\"Found '{alias}' in params. Will use it instead of 'eval_at' argument\")\n"
     ]
    },
    {
     "name": "stdout",
     "output_type": "stream",
     "text": [
      "[LightGBM] [Warning] Unknown parameter: silent\n",
      "[LightGBM] [Warning] min_sum_hessian_in_leaf is set=1, min_child_weight=0.001 will be ignored. Current value: min_sum_hessian_in_leaf=1\n",
      "[LightGBM] [Warning] min_data_in_leaf is set=1, min_child_samples=20 will be ignored. Current value: min_data_in_leaf=1\n"
     ]
    },
    {
     "data": {
      "text/html": [
       "<div>\n",
       "<style scoped>\n",
       "    .dataframe tbody tr th:only-of-type {\n",
       "        vertical-align: middle;\n",
       "    }\n",
       "\n",
       "    .dataframe tbody tr th {\n",
       "        vertical-align: top;\n",
       "    }\n",
       "\n",
       "    .dataframe thead th {\n",
       "        text-align: right;\n",
       "    }\n",
       "</style>\n",
       "<table border=\"1\" class=\"dataframe\">\n",
       "  <thead>\n",
       "    <tr style=\"text-align: right;\">\n",
       "      <th></th>\n",
       "      <th>name</th>\n",
       "      <th>map</th>\n",
       "      <th>ndcg</th>\n",
       "      <th>ndcg_cut_10</th>\n",
       "      <th>mrt</th>\n",
       "      <th>map +</th>\n",
       "      <th>map -</th>\n",
       "      <th>map p-value</th>\n",
       "      <th>ndcg +</th>\n",
       "      <th>ndcg -</th>\n",
       "      <th>ndcg p-value</th>\n",
       "      <th>ndcg_cut_10 +</th>\n",
       "      <th>ndcg_cut_10 -</th>\n",
       "      <th>ndcg_cut_10 p-value</th>\n",
       "    </tr>\n",
       "  </thead>\n",
       "  <tbody>\n",
       "    <tr>\n",
       "      <td>0</td>\n",
       "      <td>fastrank</td>\n",
       "      <td>0.743121</td>\n",
       "      <td>0.881126</td>\n",
       "      <td>0.725310</td>\n",
       "      <td>877.663768</td>\n",
       "      <td>23.0</td>\n",
       "      <td>7.0</td>\n",
       "      <td>0.000002</td>\n",
       "      <td>26.0</td>\n",
       "      <td>4.0</td>\n",
       "      <td>0.000003</td>\n",
       "      <td>20.0</td>\n",
       "      <td>7.0</td>\n",
       "      <td>0.000840</td>\n",
       "    </tr>\n",
       "    <tr>\n",
       "      <td>1</td>\n",
       "      <td>random forest</td>\n",
       "      <td>0.621176</td>\n",
       "      <td>0.831134</td>\n",
       "      <td>0.638976</td>\n",
       "      <td>899.541438</td>\n",
       "      <td>24.0</td>\n",
       "      <td>6.0</td>\n",
       "      <td>0.018936</td>\n",
       "      <td>21.0</td>\n",
       "      <td>9.0</td>\n",
       "      <td>0.011798</td>\n",
       "      <td>18.0</td>\n",
       "      <td>11.0</td>\n",
       "      <td>0.058838</td>\n",
       "    </tr>\n",
       "    <tr>\n",
       "      <td>2</td>\n",
       "      <td>LambdaMart</td>\n",
       "      <td>0.585242</td>\n",
       "      <td>0.801764</td>\n",
       "      <td>0.574654</td>\n",
       "      <td>848.273933</td>\n",
       "      <td>20.0</td>\n",
       "      <td>10.0</td>\n",
       "      <td>0.127707</td>\n",
       "      <td>19.0</td>\n",
       "      <td>11.0</td>\n",
       "      <td>0.491370</td>\n",
       "      <td>17.0</td>\n",
       "      <td>11.0</td>\n",
       "      <td>0.794708</td>\n",
       "    </tr>\n",
       "    <tr>\n",
       "      <td>3</td>\n",
       "      <td>bm25</td>\n",
       "      <td>0.679230</td>\n",
       "      <td>0.794925</td>\n",
       "      <td>0.647895</td>\n",
       "      <td>24.957781</td>\n",
       "      <td>21.0</td>\n",
       "      <td>9.0</td>\n",
       "      <td>0.010047</td>\n",
       "      <td>21.0</td>\n",
       "      <td>9.0</td>\n",
       "      <td>0.889580</td>\n",
       "      <td>18.0</td>\n",
       "      <td>9.0</td>\n",
       "      <td>0.120093</td>\n",
       "    </tr>\n",
       "    <tr>\n",
       "      <td>4</td>\n",
       "      <td>random</td>\n",
       "      <td>0.520123</td>\n",
       "      <td>0.789584</td>\n",
       "      <td>0.560093</td>\n",
       "      <td>742.802904</td>\n",
       "      <td>NaN</td>\n",
       "      <td>NaN</td>\n",
       "      <td>NaN</td>\n",
       "      <td>NaN</td>\n",
       "      <td>NaN</td>\n",
       "      <td>NaN</td>\n",
       "      <td>NaN</td>\n",
       "      <td>NaN</td>\n",
       "      <td>NaN</td>\n",
       "    </tr>\n",
       "  </tbody>\n",
       "</table>\n",
       "</div>"
      ],
      "text/plain": [
       "            name       map      ndcg  ndcg_cut_10         mrt  map +  map -  \\\n",
       "0       fastrank  0.743121  0.881126     0.725310  877.663768   23.0    7.0   \n",
       "1  random forest  0.621176  0.831134     0.638976  899.541438   24.0    6.0   \n",
       "2     LambdaMart  0.585242  0.801764     0.574654  848.273933   20.0   10.0   \n",
       "3           bm25  0.679230  0.794925     0.647895   24.957781   21.0    9.0   \n",
       "4         random  0.520123  0.789584     0.560093  742.802904    NaN    NaN   \n",
       "\n",
       "   map p-value  ndcg +  ndcg -  ndcg p-value  ndcg_cut_10 +  ndcg_cut_10 -  \\\n",
       "0     0.000002    26.0     4.0      0.000003           20.0            7.0   \n",
       "1     0.018936    21.0     9.0      0.011798           18.0           11.0   \n",
       "2     0.127707    19.0    11.0      0.491370           17.0           11.0   \n",
       "3     0.010047    21.0     9.0      0.889580           18.0            9.0   \n",
       "4          NaN     NaN     NaN           NaN            NaN            NaN   \n",
       "\n",
       "   ndcg_cut_10 p-value  \n",
       "0             0.000840  \n",
       "1             0.058838  \n",
       "2             0.794708  \n",
       "3             0.120093  \n",
       "4                  NaN  "
      ]
     },
     "execution_count": 65,
     "metadata": {},
     "output_type": "execute_result"
    }
   ],
   "source": [
    "pt.Experiment(\n",
    "    [ca_pipe, rf_pipe, lmart_x_pipe, bm25, random],\n",
    "    test_topics,\n",
    "    relevance,\n",
    "    baseline = 4,\n",
    "    eval_metrics=[\"map\", \"ndcg\", \"ndcg_cut_10\", \"mrt\"],\n",
    "    names = [\"fastrank\",\"random forest\",\"LambdaMart\", \"bm25\", \"random\"])"
   ]
  },
  {
   "cell_type": "markdown",
   "metadata": {},
   "source": [
    "Task 4: final pick (cross_encoder, fastrank)"
   ]
  },
  {
   "cell_type": "code",
   "execution_count": 66,
   "metadata": {},
   "outputs": [],
   "source": [
    "bienc_ltr_feats_1 = pt.BatchRetrieve(index) >>(\n",
    "    tfidf\n",
    "    **\n",
    "    pl2\n",
    "    **\n",
    "    coordinate\n",
    "    **\n",
    "    pt.apply.doc_score(lambda x:sim_dict[tuple([x.qid,x.docno])])\n",
    ")"
   ]
  },
  {
   "cell_type": "code",
   "execution_count": 67,
   "metadata": {},
   "outputs": [],
   "source": [
    "train_request = fastrank.TrainRequest.coordinate_ascent()\n",
    "params = train_request.params\n",
    "params.init_random = True\n",
    "params.normalize = True\n",
    "params.seed = 1234567\n",
    "ca_pipe = bienc_ltr_feats_1 >> pt.ltr.apply_learned_model(train_request, form='fastrank')\n",
    "ca_pipe.fit(train_topics, relevance)"
   ]
  },
  {
   "cell_type": "code",
   "execution_count": null,
   "metadata": {},
   "outputs": [],
   "source": []
  },
  {
   "cell_type": "markdown",
   "metadata": {},
   "source": [
    "Task 4.1: simple search engine"
   ]
  },
  {
   "cell_type": "code",
   "execution_count": 376,
   "metadata": {},
   "outputs": [],
   "source": [
    "# for each in test_topics['query'].values: \n",
    "#     BaseLTR_LM_pipe.search(each)"
   ]
  },
  {
   "cell_type": "code",
   "execution_count": 69,
   "metadata": {},
   "outputs": [],
   "source": [
    "top5Search = ca_pipe.search(test_topics['query'].values[1]).head(5)\n",
    "qidDoc = top5Search[['qid', 'docno']].to_dict()"
   ]
  },
  {
   "cell_type": "code",
   "execution_count": 71,
   "metadata": {},
   "outputs": [
    {
     "name": "stdout",
     "output_type": "stream",
     "text": [
      "Infant Japan\n",
      "\n",
      "Policy Recommend for Infant Japan\n",
      "\n",
      "Japan National infant feeding recommendation for HIV exposed infants Yes, replacement feeding [WHO Policy Data 2021]\n",
      "Japan Different regimens recommended for high risk infants Yes [WHO Policy Data 2021]\n",
      "Japan Policy recommendation on point of care early infant diagnosis testing No [WHO Policy Data 2021]\n",
      "Japan Recommended duration of PMTCT regimen for HIV exposed infants Four weeks [WHO Policy Data 2021]\n",
      "Japan Recommended regimens for high risk infants AZT, 3TC, NVP [WHO Policy Data 2021]\n"
     ]
    }
   ],
   "source": [
    "query = str(input())\n",
    "resultcsv = pd.DataFrame()\n",
    "annotationIndex['docno'] = annotationIndex['docno'].astype(str)\n",
    "top5doc = ca_pipe.search(query)[0:5]\n",
    "val = top5doc.docno.values\n",
    "print(\"\\nPolicy Recommend for \" + query + \"\\n\")\n",
    "for x in val:\n",
    "    temp = annotationIndex[annotationIndex['docno'] == x]\n",
    "    \n",
    "    for j in temp['text']:\n",
    "        j = j.replace('.', \" \")\n",
    "        print(j)"
   ]
  },
  {
   "cell_type": "code",
   "execution_count": null,
   "metadata": {},
   "outputs": [],
   "source": []
  },
  {
   "cell_type": "code",
   "execution_count": null,
   "metadata": {},
   "outputs": [],
   "source": []
  }
 ],
 "metadata": {
  "kernelspec": {
   "display_name": "Python 3",
   "language": "python",
   "name": "python3"
  },
  "language_info": {
   "codemirror_mode": {
    "name": "ipython",
    "version": 3
   },
   "file_extension": ".py",
   "mimetype": "text/x-python",
   "name": "python",
   "nbconvert_exporter": "python",
   "pygments_lexer": "ipython3",
   "version": "3.7.2"
  }
 },
 "nbformat": 4,
 "nbformat_minor": 2
}
